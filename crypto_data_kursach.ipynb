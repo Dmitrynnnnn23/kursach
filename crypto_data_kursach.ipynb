{
  "cells": [
    {
      "cell_type": "code",
      "execution_count": 1,
      "id": "7807ba99-b85d-4ee8-9186-e74bf0064e85",
      "metadata": {
        "colab": {
          "base_uri": "https://localhost:8080/",
          "height": 1000
        },
        "id": "7807ba99-b85d-4ee8-9186-e74bf0064e85",
        "outputId": "af8ce6dd-bc24-405a-afc4-0f4bbcd13e10"
      },
      "outputs": [
        {
          "output_type": "stream",
          "name": "stdout",
          "text": [
            "Requirement already satisfied: openpyxl in /usr/local/lib/python3.12/dist-packages (3.1.5)\n",
            "Requirement already satisfied: plotly in /usr/local/lib/python3.12/dist-packages (5.24.1)\n",
            "Requirement already satisfied: yfinance in /usr/local/lib/python3.12/dist-packages (0.2.65)\n",
            "Requirement already satisfied: matplotlib in /usr/local/lib/python3.12/dist-packages (3.10.0)\n",
            "Collecting ta\n",
            "  Downloading ta-0.11.0.tar.gz (25 kB)\n",
            "  Preparing metadata (setup.py) ... \u001b[?25l\u001b[?25hdone\n",
            "Collecting pmdarima\n",
            "  Downloading pmdarima-2.0.4-cp312-cp312-manylinux_2_17_x86_64.manylinux2014_x86_64.manylinux_2_28_x86_64.whl.metadata (7.8 kB)\n",
            "Collecting optuna\n",
            "  Downloading optuna-4.5.0-py3-none-any.whl.metadata (17 kB)\n",
            "Requirement already satisfied: requests in /usr/local/lib/python3.12/dist-packages (2.32.4)\n",
            "Requirement already satisfied: tensorflow in /usr/local/lib/python3.12/dist-packages (2.19.0)\n",
            "Requirement already satisfied: et-xmlfile in /usr/local/lib/python3.12/dist-packages (from openpyxl) (2.0.0)\n",
            "Requirement already satisfied: tenacity>=6.2.0 in /usr/local/lib/python3.12/dist-packages (from plotly) (8.5.0)\n",
            "Requirement already satisfied: packaging in /usr/local/lib/python3.12/dist-packages (from plotly) (25.0)\n",
            "Requirement already satisfied: pandas>=1.3.0 in /usr/local/lib/python3.12/dist-packages (from yfinance) (2.2.2)\n",
            "Requirement already satisfied: numpy>=1.16.5 in /usr/local/lib/python3.12/dist-packages (from yfinance) (2.0.2)\n",
            "Requirement already satisfied: multitasking>=0.0.7 in /usr/local/lib/python3.12/dist-packages (from yfinance) (0.0.12)\n",
            "Requirement already satisfied: platformdirs>=2.0.0 in /usr/local/lib/python3.12/dist-packages (from yfinance) (4.4.0)\n",
            "Requirement already satisfied: pytz>=2022.5 in /usr/local/lib/python3.12/dist-packages (from yfinance) (2025.2)\n",
            "Requirement already satisfied: frozendict>=2.3.4 in /usr/local/lib/python3.12/dist-packages (from yfinance) (2.4.6)\n",
            "Requirement already satisfied: peewee>=3.16.2 in /usr/local/lib/python3.12/dist-packages (from yfinance) (3.18.2)\n",
            "Requirement already satisfied: beautifulsoup4>=4.11.1 in /usr/local/lib/python3.12/dist-packages (from yfinance) (4.13.5)\n",
            "Requirement already satisfied: curl_cffi>=0.7 in /usr/local/lib/python3.12/dist-packages (from yfinance) (0.13.0)\n",
            "Requirement already satisfied: protobuf>=3.19.0 in /usr/local/lib/python3.12/dist-packages (from yfinance) (5.29.5)\n",
            "Requirement already satisfied: websockets>=13.0 in /usr/local/lib/python3.12/dist-packages (from yfinance) (15.0.1)\n",
            "Requirement already satisfied: contourpy>=1.0.1 in /usr/local/lib/python3.12/dist-packages (from matplotlib) (1.3.3)\n",
            "Requirement already satisfied: cycler>=0.10 in /usr/local/lib/python3.12/dist-packages (from matplotlib) (0.12.1)\n",
            "Requirement already satisfied: fonttools>=4.22.0 in /usr/local/lib/python3.12/dist-packages (from matplotlib) (4.59.2)\n",
            "Requirement already satisfied: kiwisolver>=1.3.1 in /usr/local/lib/python3.12/dist-packages (from matplotlib) (1.4.9)\n",
            "Requirement already satisfied: pillow>=8 in /usr/local/lib/python3.12/dist-packages (from matplotlib) (11.3.0)\n",
            "Requirement already satisfied: pyparsing>=2.3.1 in /usr/local/lib/python3.12/dist-packages (from matplotlib) (3.2.3)\n",
            "Requirement already satisfied: python-dateutil>=2.7 in /usr/local/lib/python3.12/dist-packages (from matplotlib) (2.9.0.post0)\n",
            "Requirement already satisfied: joblib>=0.11 in /usr/local/lib/python3.12/dist-packages (from pmdarima) (1.5.2)\n",
            "Requirement already satisfied: Cython!=0.29.18,!=0.29.31,>=0.29 in /usr/local/lib/python3.12/dist-packages (from pmdarima) (3.0.12)\n",
            "Requirement already satisfied: scikit-learn>=0.22 in /usr/local/lib/python3.12/dist-packages (from pmdarima) (1.6.1)\n",
            "Requirement already satisfied: scipy>=1.3.2 in /usr/local/lib/python3.12/dist-packages (from pmdarima) (1.16.1)\n",
            "Requirement already satisfied: statsmodels>=0.13.2 in /usr/local/lib/python3.12/dist-packages (from pmdarima) (0.14.5)\n",
            "Requirement already satisfied: urllib3 in /usr/local/lib/python3.12/dist-packages (from pmdarima) (2.5.0)\n",
            "Requirement already satisfied: setuptools!=50.0.0,>=38.6.0 in /usr/local/lib/python3.12/dist-packages (from pmdarima) (75.2.0)\n",
            "Requirement already satisfied: alembic>=1.5.0 in /usr/local/lib/python3.12/dist-packages (from optuna) (1.16.5)\n",
            "Collecting colorlog (from optuna)\n",
            "  Downloading colorlog-6.9.0-py3-none-any.whl.metadata (10 kB)\n",
            "Requirement already satisfied: sqlalchemy>=1.4.2 in /usr/local/lib/python3.12/dist-packages (from optuna) (2.0.43)\n",
            "Requirement already satisfied: tqdm in /usr/local/lib/python3.12/dist-packages (from optuna) (4.67.1)\n",
            "Requirement already satisfied: PyYAML in /usr/local/lib/python3.12/dist-packages (from optuna) (6.0.2)\n",
            "Requirement already satisfied: charset_normalizer<4,>=2 in /usr/local/lib/python3.12/dist-packages (from requests) (3.4.3)\n",
            "Requirement already satisfied: idna<4,>=2.5 in /usr/local/lib/python3.12/dist-packages (from requests) (3.10)\n",
            "Requirement already satisfied: certifi>=2017.4.17 in /usr/local/lib/python3.12/dist-packages (from requests) (2025.8.3)\n",
            "Requirement already satisfied: absl-py>=1.0.0 in /usr/local/lib/python3.12/dist-packages (from tensorflow) (1.4.0)\n",
            "Requirement already satisfied: astunparse>=1.6.0 in /usr/local/lib/python3.12/dist-packages (from tensorflow) (1.6.3)\n",
            "Requirement already satisfied: flatbuffers>=24.3.25 in /usr/local/lib/python3.12/dist-packages (from tensorflow) (25.2.10)\n",
            "Requirement already satisfied: gast!=0.5.0,!=0.5.1,!=0.5.2,>=0.2.1 in /usr/local/lib/python3.12/dist-packages (from tensorflow) (0.6.0)\n",
            "Requirement already satisfied: google-pasta>=0.1.1 in /usr/local/lib/python3.12/dist-packages (from tensorflow) (0.2.0)\n",
            "Requirement already satisfied: libclang>=13.0.0 in /usr/local/lib/python3.12/dist-packages (from tensorflow) (18.1.1)\n",
            "Requirement already satisfied: opt-einsum>=2.3.2 in /usr/local/lib/python3.12/dist-packages (from tensorflow) (3.4.0)\n",
            "Requirement already satisfied: six>=1.12.0 in /usr/local/lib/python3.12/dist-packages (from tensorflow) (1.17.0)\n",
            "Requirement already satisfied: termcolor>=1.1.0 in /usr/local/lib/python3.12/dist-packages (from tensorflow) (3.1.0)\n",
            "Requirement already satisfied: typing-extensions>=3.6.6 in /usr/local/lib/python3.12/dist-packages (from tensorflow) (4.15.0)\n",
            "Requirement already satisfied: wrapt>=1.11.0 in /usr/local/lib/python3.12/dist-packages (from tensorflow) (1.17.3)\n",
            "Requirement already satisfied: grpcio<2.0,>=1.24.3 in /usr/local/lib/python3.12/dist-packages (from tensorflow) (1.74.0)\n",
            "Requirement already satisfied: tensorboard~=2.19.0 in /usr/local/lib/python3.12/dist-packages (from tensorflow) (2.19.0)\n",
            "Requirement already satisfied: keras>=3.5.0 in /usr/local/lib/python3.12/dist-packages (from tensorflow) (3.10.0)\n",
            "Requirement already satisfied: h5py>=3.11.0 in /usr/local/lib/python3.12/dist-packages (from tensorflow) (3.14.0)\n",
            "Requirement already satisfied: ml-dtypes<1.0.0,>=0.5.1 in /usr/local/lib/python3.12/dist-packages (from tensorflow) (0.5.3)\n",
            "Requirement already satisfied: Mako in /usr/local/lib/python3.12/dist-packages (from alembic>=1.5.0->optuna) (1.3.10)\n",
            "Requirement already satisfied: wheel<1.0,>=0.23.0 in /usr/local/lib/python3.12/dist-packages (from astunparse>=1.6.0->tensorflow) (0.45.1)\n",
            "Requirement already satisfied: soupsieve>1.2 in /usr/local/lib/python3.12/dist-packages (from beautifulsoup4>=4.11.1->yfinance) (2.8)\n",
            "Requirement already satisfied: cffi>=1.12.0 in /usr/local/lib/python3.12/dist-packages (from curl_cffi>=0.7->yfinance) (1.17.1)\n",
            "Requirement already satisfied: rich in /usr/local/lib/python3.12/dist-packages (from keras>=3.5.0->tensorflow) (13.9.4)\n",
            "Requirement already satisfied: namex in /usr/local/lib/python3.12/dist-packages (from keras>=3.5.0->tensorflow) (0.1.0)\n",
            "Requirement already satisfied: optree in /usr/local/lib/python3.12/dist-packages (from keras>=3.5.0->tensorflow) (0.17.0)\n",
            "Requirement already satisfied: tzdata>=2022.7 in /usr/local/lib/python3.12/dist-packages (from pandas>=1.3.0->yfinance) (2025.2)\n",
            "Requirement already satisfied: threadpoolctl>=3.1.0 in /usr/local/lib/python3.12/dist-packages (from scikit-learn>=0.22->pmdarima) (3.6.0)\n",
            "Requirement already satisfied: greenlet>=1 in /usr/local/lib/python3.12/dist-packages (from sqlalchemy>=1.4.2->optuna) (3.2.4)\n",
            "Requirement already satisfied: patsy>=0.5.6 in /usr/local/lib/python3.12/dist-packages (from statsmodels>=0.13.2->pmdarima) (1.0.1)\n",
            "Requirement already satisfied: markdown>=2.6.8 in /usr/local/lib/python3.12/dist-packages (from tensorboard~=2.19.0->tensorflow) (3.8.2)\n",
            "Requirement already satisfied: tensorboard-data-server<0.8.0,>=0.7.0 in /usr/local/lib/python3.12/dist-packages (from tensorboard~=2.19.0->tensorflow) (0.7.2)\n",
            "Requirement already satisfied: werkzeug>=1.0.1 in /usr/local/lib/python3.12/dist-packages (from tensorboard~=2.19.0->tensorflow) (3.1.3)\n",
            "Requirement already satisfied: pycparser in /usr/local/lib/python3.12/dist-packages (from cffi>=1.12.0->curl_cffi>=0.7->yfinance) (2.22)\n",
            "Requirement already satisfied: MarkupSafe>=2.1.1 in /usr/local/lib/python3.12/dist-packages (from werkzeug>=1.0.1->tensorboard~=2.19.0->tensorflow) (3.0.2)\n",
            "Requirement already satisfied: markdown-it-py>=2.2.0 in /usr/local/lib/python3.12/dist-packages (from rich->keras>=3.5.0->tensorflow) (4.0.0)\n",
            "Requirement already satisfied: pygments<3.0.0,>=2.13.0 in /usr/local/lib/python3.12/dist-packages (from rich->keras>=3.5.0->tensorflow) (2.19.2)\n",
            "Requirement already satisfied: mdurl~=0.1 in /usr/local/lib/python3.12/dist-packages (from markdown-it-py>=2.2.0->rich->keras>=3.5.0->tensorflow) (0.1.2)\n",
            "Downloading pmdarima-2.0.4-cp312-cp312-manylinux_2_17_x86_64.manylinux2014_x86_64.manylinux_2_28_x86_64.whl (2.3 MB)\n",
            "\u001b[2K   \u001b[90m━━━━━━━━━━━━━━━━━━━━━━━━━━━━━━━━━━━━━━━━\u001b[0m \u001b[32m2.3/2.3 MB\u001b[0m \u001b[31m87.8 MB/s\u001b[0m eta \u001b[36m0:00:00\u001b[0m\n",
            "\u001b[?25hDownloading optuna-4.5.0-py3-none-any.whl (400 kB)\n",
            "\u001b[2K   \u001b[90m━━━━━━━━━━━━━━━━━━━━━━━━━━━━━━━━━━━━━━━━\u001b[0m \u001b[32m400.9/400.9 kB\u001b[0m \u001b[31m40.4 MB/s\u001b[0m eta \u001b[36m0:00:00\u001b[0m\n",
            "\u001b[?25hDownloading colorlog-6.9.0-py3-none-any.whl (11 kB)\n",
            "Building wheels for collected packages: ta\n",
            "  Building wheel for ta (setup.py) ... \u001b[?25l\u001b[?25hcanceled\n",
            "\u001b[31mERROR: Operation cancelled by user\u001b[0m\u001b[31m\n",
            "\u001b[0m"
          ]
        },
        {
          "output_type": "error",
          "ename": "KeyboardInterrupt",
          "evalue": "",
          "traceback": [
            "\u001b[0;31m---------------------------------------------------------------------------\u001b[0m",
            "\u001b[0;31mAttributeError\u001b[0m                            Traceback (most recent call last)",
            "\u001b[0;32m/usr/lib/python3.12/pathlib.py\u001b[0m in \u001b[0;36m__str__\u001b[0;34m(self)\u001b[0m\n\u001b[1;32m    440\u001b[0m         \u001b[0;32mtry\u001b[0m\u001b[0;34m:\u001b[0m\u001b[0;34m\u001b[0m\u001b[0;34m\u001b[0m\u001b[0m\n\u001b[0;32m--> 441\u001b[0;31m             \u001b[0;32mreturn\u001b[0m \u001b[0mself\u001b[0m\u001b[0;34m.\u001b[0m\u001b[0m_str\u001b[0m\u001b[0;34m\u001b[0m\u001b[0;34m\u001b[0m\u001b[0m\n\u001b[0m\u001b[1;32m    442\u001b[0m         \u001b[0;32mexcept\u001b[0m \u001b[0mAttributeError\u001b[0m\u001b[0;34m:\u001b[0m\u001b[0;34m\u001b[0m\u001b[0;34m\u001b[0m\u001b[0m\n",
            "\u001b[0;31mAttributeError\u001b[0m: 'PosixPath' object has no attribute '_str'",
            "\nDuring handling of the above exception, another exception occurred:\n",
            "\u001b[0;31mAttributeError\u001b[0m                            Traceback (most recent call last)",
            "\u001b[0;32m/usr/lib/python3.12/pathlib.py\u001b[0m in \u001b[0;36mdrive\u001b[0;34m(self)\u001b[0m\n\u001b[1;32m    554\u001b[0m         \u001b[0;32mtry\u001b[0m\u001b[0;34m:\u001b[0m\u001b[0;34m\u001b[0m\u001b[0;34m\u001b[0m\u001b[0m\n\u001b[0;32m--> 555\u001b[0;31m             \u001b[0;32mreturn\u001b[0m \u001b[0mself\u001b[0m\u001b[0;34m.\u001b[0m\u001b[0m_drv\u001b[0m\u001b[0;34m\u001b[0m\u001b[0;34m\u001b[0m\u001b[0m\n\u001b[0m\u001b[1;32m    556\u001b[0m         \u001b[0;32mexcept\u001b[0m \u001b[0mAttributeError\u001b[0m\u001b[0;34m:\u001b[0m\u001b[0;34m\u001b[0m\u001b[0;34m\u001b[0m\u001b[0m\n",
            "\u001b[0;31mAttributeError\u001b[0m: 'PosixPath' object has no attribute '_drv'",
            "\nDuring handling of the above exception, another exception occurred:\n",
            "\u001b[0;31mKeyboardInterrupt\u001b[0m                         Traceback (most recent call last)",
            "\u001b[0;32m/tmp/ipython-input-3092415292.py\u001b[0m in \u001b[0;36m<cell line: 0>\u001b[0;34m()\u001b[0m\n\u001b[0;32m----> 1\u001b[0;31m \u001b[0mget_ipython\u001b[0m\u001b[0;34m(\u001b[0m\u001b[0;34m)\u001b[0m\u001b[0;34m.\u001b[0m\u001b[0mrun_line_magic\u001b[0m\u001b[0;34m(\u001b[0m\u001b[0;34m'pip'\u001b[0m\u001b[0;34m,\u001b[0m \u001b[0;34m'install openpyxl plotly yfinance matplotlib ta pmdarima optuna requests tensorflow'\u001b[0m\u001b[0;34m)\u001b[0m\u001b[0;34m\u001b[0m\u001b[0;34m\u001b[0m\u001b[0m\n\u001b[0m",
            "\u001b[0;32m/usr/local/lib/python3.12/dist-packages/IPython/core/interactiveshell.py\u001b[0m in \u001b[0;36mrun_line_magic\u001b[0;34m(self, magic_name, line, _stack_depth)\u001b[0m\n\u001b[1;32m   2416\u001b[0m                 \u001b[0mkwargs\u001b[0m\u001b[0;34m[\u001b[0m\u001b[0;34m'local_ns'\u001b[0m\u001b[0;34m]\u001b[0m \u001b[0;34m=\u001b[0m \u001b[0mself\u001b[0m\u001b[0;34m.\u001b[0m\u001b[0mget_local_scope\u001b[0m\u001b[0;34m(\u001b[0m\u001b[0mstack_depth\u001b[0m\u001b[0;34m)\u001b[0m\u001b[0;34m\u001b[0m\u001b[0;34m\u001b[0m\u001b[0m\n\u001b[1;32m   2417\u001b[0m             \u001b[0;32mwith\u001b[0m \u001b[0mself\u001b[0m\u001b[0;34m.\u001b[0m\u001b[0mbuiltin_trap\u001b[0m\u001b[0;34m:\u001b[0m\u001b[0;34m\u001b[0m\u001b[0;34m\u001b[0m\u001b[0m\n\u001b[0;32m-> 2418\u001b[0;31m                 \u001b[0mresult\u001b[0m \u001b[0;34m=\u001b[0m \u001b[0mfn\u001b[0m\u001b[0;34m(\u001b[0m\u001b[0;34m*\u001b[0m\u001b[0margs\u001b[0m\u001b[0;34m,\u001b[0m \u001b[0;34m**\u001b[0m\u001b[0mkwargs\u001b[0m\u001b[0;34m)\u001b[0m\u001b[0;34m\u001b[0m\u001b[0;34m\u001b[0m\u001b[0m\n\u001b[0m\u001b[1;32m   2419\u001b[0m             \u001b[0;32mreturn\u001b[0m \u001b[0mresult\u001b[0m\u001b[0;34m\u001b[0m\u001b[0;34m\u001b[0m\u001b[0m\n\u001b[1;32m   2420\u001b[0m \u001b[0;34m\u001b[0m\u001b[0m\n",
            "\u001b[0;32m/usr/local/lib/python3.12/dist-packages/google/colab/_installation_commands.py\u001b[0m in \u001b[0;36m_pip_magic\u001b[0;34m(line)\u001b[0m\n\u001b[1;32m     47\u001b[0m   \u001b[0;31m# Colab is set up such that pip does the right thing, and pip install\u001b[0m\u001b[0;34m\u001b[0m\u001b[0;34m\u001b[0m\u001b[0m\n\u001b[1;32m     48\u001b[0m   \u001b[0;31m# will properly trigger the pip install warning.\u001b[0m\u001b[0;34m\u001b[0m\u001b[0;34m\u001b[0m\u001b[0m\n\u001b[0;32m---> 49\u001b[0;31m   \u001b[0;32mreturn\u001b[0m \u001b[0mip\u001b[0m\u001b[0;34m.\u001b[0m\u001b[0msystem\u001b[0m\u001b[0;34m(\u001b[0m\u001b[0;34m'pip {}'\u001b[0m\u001b[0;34m.\u001b[0m\u001b[0mformat\u001b[0m\u001b[0;34m(\u001b[0m\u001b[0mline\u001b[0m\u001b[0;34m)\u001b[0m\u001b[0;34m)\u001b[0m\u001b[0;34m\u001b[0m\u001b[0;34m\u001b[0m\u001b[0m\n\u001b[0m\u001b[1;32m     50\u001b[0m \u001b[0;34m\u001b[0m\u001b[0m\n\u001b[1;32m     51\u001b[0m \u001b[0;34m\u001b[0m\u001b[0m\n",
            "\u001b[0;32m/usr/local/lib/python3.12/dist-packages/google/colab/_shell.py\u001b[0m in \u001b[0;36msystem\u001b[0;34m(self, *args, **kwargs)\u001b[0m\n\u001b[1;32m    150\u001b[0m \u001b[0;34m\u001b[0m\u001b[0m\n\u001b[1;32m    151\u001b[0m     \u001b[0;32mif\u001b[0m \u001b[0mpip_warn\u001b[0m\u001b[0;34m:\u001b[0m\u001b[0;34m\u001b[0m\u001b[0;34m\u001b[0m\u001b[0m\n\u001b[0;32m--> 152\u001b[0;31m       \u001b[0m_pip\u001b[0m\u001b[0;34m.\u001b[0m\u001b[0mprint_previous_import_warning\u001b[0m\u001b[0;34m(\u001b[0m\u001b[0moutput\u001b[0m\u001b[0;34m)\u001b[0m\u001b[0;34m\u001b[0m\u001b[0;34m\u001b[0m\u001b[0m\n\u001b[0m\u001b[1;32m    153\u001b[0m \u001b[0;34m\u001b[0m\u001b[0m\n\u001b[1;32m    154\u001b[0m   \u001b[0;32mdef\u001b[0m \u001b[0m_send_error\u001b[0m\u001b[0;34m(\u001b[0m\u001b[0mself\u001b[0m\u001b[0;34m,\u001b[0m \u001b[0mexc_content\u001b[0m\u001b[0;34m)\u001b[0m\u001b[0;34m:\u001b[0m\u001b[0;34m\u001b[0m\u001b[0;34m\u001b[0m\u001b[0m\n",
            "\u001b[0;32m/usr/local/lib/python3.12/dist-packages/google/colab/_pip.py\u001b[0m in \u001b[0;36mprint_previous_import_warning\u001b[0;34m(output)\u001b[0m\n\u001b[1;32m     54\u001b[0m \u001b[0;32mdef\u001b[0m \u001b[0mprint_previous_import_warning\u001b[0m\u001b[0;34m(\u001b[0m\u001b[0moutput\u001b[0m\u001b[0;34m)\u001b[0m\u001b[0;34m:\u001b[0m\u001b[0;34m\u001b[0m\u001b[0;34m\u001b[0m\u001b[0m\n\u001b[1;32m     55\u001b[0m   \u001b[0;34m\"\"\"Prints a warning about previously imported packages.\"\"\"\u001b[0m\u001b[0;34m\u001b[0m\u001b[0;34m\u001b[0m\u001b[0m\n\u001b[0;32m---> 56\u001b[0;31m   \u001b[0mpackages\u001b[0m \u001b[0;34m=\u001b[0m \u001b[0m_previously_imported_packages\u001b[0m\u001b[0;34m(\u001b[0m\u001b[0moutput\u001b[0m\u001b[0;34m)\u001b[0m\u001b[0;34m\u001b[0m\u001b[0;34m\u001b[0m\u001b[0m\n\u001b[0m\u001b[1;32m     57\u001b[0m   \u001b[0;32mif\u001b[0m \u001b[0mpackages\u001b[0m\u001b[0;34m:\u001b[0m\u001b[0;34m\u001b[0m\u001b[0;34m\u001b[0m\u001b[0m\n\u001b[1;32m     58\u001b[0m     \u001b[0;31m# display a list of packages using the colab-display-data mimetype, which\u001b[0m\u001b[0;34m\u001b[0m\u001b[0;34m\u001b[0m\u001b[0m\n",
            "\u001b[0;32m/usr/local/lib/python3.12/dist-packages/google/colab/_pip.py\u001b[0m in \u001b[0;36m_previously_imported_packages\u001b[0;34m(pip_output)\u001b[0m\n\u001b[1;32m     48\u001b[0m \u001b[0;32mdef\u001b[0m \u001b[0m_previously_imported_packages\u001b[0m\u001b[0;34m(\u001b[0m\u001b[0mpip_output\u001b[0m\u001b[0;34m)\u001b[0m\u001b[0;34m:\u001b[0m\u001b[0;34m\u001b[0m\u001b[0;34m\u001b[0m\u001b[0m\n\u001b[1;32m     49\u001b[0m   \u001b[0;34m\"\"\"List all previously imported packages from a pip install.\"\"\"\u001b[0m\u001b[0;34m\u001b[0m\u001b[0;34m\u001b[0m\u001b[0m\n\u001b[0;32m---> 50\u001b[0;31m   \u001b[0minstalled\u001b[0m \u001b[0;34m=\u001b[0m \u001b[0mset\u001b[0m\u001b[0;34m(\u001b[0m\u001b[0m_extract_toplevel_packages\u001b[0m\u001b[0;34m(\u001b[0m\u001b[0mpip_output\u001b[0m\u001b[0;34m)\u001b[0m\u001b[0;34m)\u001b[0m\u001b[0;34m\u001b[0m\u001b[0;34m\u001b[0m\u001b[0m\n\u001b[0m\u001b[1;32m     51\u001b[0m   \u001b[0;32mreturn\u001b[0m \u001b[0msorted\u001b[0m\u001b[0;34m(\u001b[0m\u001b[0minstalled\u001b[0m\u001b[0;34m.\u001b[0m\u001b[0mintersection\u001b[0m\u001b[0;34m(\u001b[0m\u001b[0mset\u001b[0m\u001b[0;34m(\u001b[0m\u001b[0msys\u001b[0m\u001b[0;34m.\u001b[0m\u001b[0mmodules\u001b[0m\u001b[0;34m)\u001b[0m\u001b[0;34m)\u001b[0m\u001b[0;34m)\u001b[0m\u001b[0;34m\u001b[0m\u001b[0;34m\u001b[0m\u001b[0m\n\u001b[1;32m     52\u001b[0m \u001b[0;34m\u001b[0m\u001b[0m\n",
            "\u001b[0;32m/usr/local/lib/python3.12/dist-packages/google/colab/_pip.py\u001b[0m in \u001b[0;36m_extract_toplevel_packages\u001b[0;34m(pip_output)\u001b[0m\n\u001b[1;32m     37\u001b[0m   \u001b[0;34m\"\"\"Extract the list of toplevel packages associated with a pip install.\"\"\"\u001b[0m\u001b[0;34m\u001b[0m\u001b[0;34m\u001b[0m\u001b[0m\n\u001b[1;32m     38\u001b[0m   \u001b[0mtoplevel\u001b[0m \u001b[0;34m=\u001b[0m \u001b[0mcollections\u001b[0m\u001b[0;34m.\u001b[0m\u001b[0mdefaultdict\u001b[0m\u001b[0;34m(\u001b[0m\u001b[0mset\u001b[0m\u001b[0;34m)\u001b[0m\u001b[0;34m\u001b[0m\u001b[0;34m\u001b[0m\u001b[0m\n\u001b[0;32m---> 39\u001b[0;31m   \u001b[0;32mfor\u001b[0m \u001b[0mm\u001b[0m\u001b[0;34m,\u001b[0m \u001b[0mps\u001b[0m \u001b[0;32min\u001b[0m \u001b[0mimportlib\u001b[0m\u001b[0;34m.\u001b[0m\u001b[0mmetadata\u001b[0m\u001b[0;34m.\u001b[0m\u001b[0mpackages_distributions\u001b[0m\u001b[0;34m(\u001b[0m\u001b[0;34m)\u001b[0m\u001b[0;34m.\u001b[0m\u001b[0mitems\u001b[0m\u001b[0;34m(\u001b[0m\u001b[0;34m)\u001b[0m\u001b[0;34m:\u001b[0m\u001b[0;34m\u001b[0m\u001b[0;34m\u001b[0m\u001b[0m\n\u001b[0m\u001b[1;32m     40\u001b[0m     \u001b[0;32mfor\u001b[0m \u001b[0mp\u001b[0m \u001b[0;32min\u001b[0m \u001b[0mps\u001b[0m\u001b[0;34m:\u001b[0m\u001b[0;34m\u001b[0m\u001b[0;34m\u001b[0m\u001b[0m\n\u001b[1;32m     41\u001b[0m       \u001b[0mtoplevel\u001b[0m\u001b[0;34m[\u001b[0m\u001b[0mp\u001b[0m\u001b[0;34m]\u001b[0m\u001b[0;34m.\u001b[0m\u001b[0madd\u001b[0m\u001b[0;34m(\u001b[0m\u001b[0mm\u001b[0m\u001b[0;34m)\u001b[0m\u001b[0;34m\u001b[0m\u001b[0;34m\u001b[0m\u001b[0m\n",
            "\u001b[0;32m/usr/lib/python3.12/importlib/metadata/__init__.py\u001b[0m in \u001b[0;36mpackages_distributions\u001b[0;34m()\u001b[0m\n\u001b[1;32m    945\u001b[0m     \u001b[0mpkg_to_dist\u001b[0m \u001b[0;34m=\u001b[0m \u001b[0mcollections\u001b[0m\u001b[0;34m.\u001b[0m\u001b[0mdefaultdict\u001b[0m\u001b[0;34m(\u001b[0m\u001b[0mlist\u001b[0m\u001b[0;34m)\u001b[0m\u001b[0;34m\u001b[0m\u001b[0;34m\u001b[0m\u001b[0m\n\u001b[1;32m    946\u001b[0m     \u001b[0;32mfor\u001b[0m \u001b[0mdist\u001b[0m \u001b[0;32min\u001b[0m \u001b[0mdistributions\u001b[0m\u001b[0;34m(\u001b[0m\u001b[0;34m)\u001b[0m\u001b[0;34m:\u001b[0m\u001b[0;34m\u001b[0m\u001b[0;34m\u001b[0m\u001b[0m\n\u001b[0;32m--> 947\u001b[0;31m         \u001b[0;32mfor\u001b[0m \u001b[0mpkg\u001b[0m \u001b[0;32min\u001b[0m \u001b[0m_top_level_declared\u001b[0m\u001b[0;34m(\u001b[0m\u001b[0mdist\u001b[0m\u001b[0;34m)\u001b[0m \u001b[0;32mor\u001b[0m \u001b[0m_top_level_inferred\u001b[0m\u001b[0;34m(\u001b[0m\u001b[0mdist\u001b[0m\u001b[0;34m)\u001b[0m\u001b[0;34m:\u001b[0m\u001b[0;34m\u001b[0m\u001b[0;34m\u001b[0m\u001b[0m\n\u001b[0m\u001b[1;32m    948\u001b[0m             \u001b[0mpkg_to_dist\u001b[0m\u001b[0;34m[\u001b[0m\u001b[0mpkg\u001b[0m\u001b[0;34m]\u001b[0m\u001b[0;34m.\u001b[0m\u001b[0mappend\u001b[0m\u001b[0;34m(\u001b[0m\u001b[0mdist\u001b[0m\u001b[0;34m.\u001b[0m\u001b[0mmetadata\u001b[0m\u001b[0;34m[\u001b[0m\u001b[0;34m'Name'\u001b[0m\u001b[0;34m]\u001b[0m\u001b[0;34m)\u001b[0m\u001b[0;34m\u001b[0m\u001b[0;34m\u001b[0m\u001b[0m\n\u001b[1;32m    949\u001b[0m     \u001b[0;32mreturn\u001b[0m \u001b[0mdict\u001b[0m\u001b[0;34m(\u001b[0m\u001b[0mpkg_to_dist\u001b[0m\u001b[0;34m)\u001b[0m\u001b[0;34m\u001b[0m\u001b[0;34m\u001b[0m\u001b[0m\n",
            "\u001b[0;32m/usr/lib/python3.12/importlib/metadata/__init__.py\u001b[0m in \u001b[0;36m_top_level_inferred\u001b[0;34m(dist)\u001b[0m\n\u001b[1;32m    957\u001b[0m     opt_names = {\n\u001b[1;32m    958\u001b[0m         \u001b[0mf\u001b[0m\u001b[0;34m.\u001b[0m\u001b[0mparts\u001b[0m\u001b[0;34m[\u001b[0m\u001b[0;36m0\u001b[0m\u001b[0;34m]\u001b[0m \u001b[0;32mif\u001b[0m \u001b[0mlen\u001b[0m\u001b[0;34m(\u001b[0m\u001b[0mf\u001b[0m\u001b[0;34m.\u001b[0m\u001b[0mparts\u001b[0m\u001b[0;34m)\u001b[0m \u001b[0;34m>\u001b[0m \u001b[0;36m1\u001b[0m \u001b[0;32melse\u001b[0m \u001b[0minspect\u001b[0m\u001b[0;34m.\u001b[0m\u001b[0mgetmodulename\u001b[0m\u001b[0;34m(\u001b[0m\u001b[0mf\u001b[0m\u001b[0;34m)\u001b[0m\u001b[0;34m\u001b[0m\u001b[0;34m\u001b[0m\u001b[0m\n\u001b[0;32m--> 959\u001b[0;31m         \u001b[0;32mfor\u001b[0m \u001b[0mf\u001b[0m \u001b[0;32min\u001b[0m \u001b[0malways_iterable\u001b[0m\u001b[0;34m(\u001b[0m\u001b[0mdist\u001b[0m\u001b[0;34m.\u001b[0m\u001b[0mfiles\u001b[0m\u001b[0;34m)\u001b[0m\u001b[0;34m\u001b[0m\u001b[0;34m\u001b[0m\u001b[0m\n\u001b[0m\u001b[1;32m    960\u001b[0m     }\n\u001b[1;32m    961\u001b[0m \u001b[0;34m\u001b[0m\u001b[0m\n",
            "\u001b[0;32m/usr/lib/python3.12/importlib/metadata/__init__.py\u001b[0m in \u001b[0;36mfiles\u001b[0;34m(self)\u001b[0m\n\u001b[1;32m    498\u001b[0m             \u001b[0;32mreturn\u001b[0m \u001b[0mlist\u001b[0m\u001b[0;34m(\u001b[0m\u001b[0mfilter\u001b[0m\u001b[0;34m(\u001b[0m\u001b[0;32mlambda\u001b[0m \u001b[0mpath\u001b[0m\u001b[0;34m:\u001b[0m \u001b[0mpath\u001b[0m\u001b[0;34m.\u001b[0m\u001b[0mlocate\u001b[0m\u001b[0;34m(\u001b[0m\u001b[0;34m)\u001b[0m\u001b[0;34m.\u001b[0m\u001b[0mexists\u001b[0m\u001b[0;34m(\u001b[0m\u001b[0;34m)\u001b[0m\u001b[0;34m,\u001b[0m \u001b[0mpackage_paths\u001b[0m\u001b[0;34m)\u001b[0m\u001b[0;34m)\u001b[0m\u001b[0;34m\u001b[0m\u001b[0;34m\u001b[0m\u001b[0m\n\u001b[1;32m    499\u001b[0m \u001b[0;34m\u001b[0m\u001b[0m\n\u001b[0;32m--> 500\u001b[0;31m         return skip_missing_files(\n\u001b[0m\u001b[1;32m    501\u001b[0m             make_files(\n\u001b[1;32m    502\u001b[0m                 \u001b[0mself\u001b[0m\u001b[0;34m.\u001b[0m\u001b[0m_read_files_distinfo\u001b[0m\u001b[0;34m(\u001b[0m\u001b[0;34m)\u001b[0m\u001b[0;34m\u001b[0m\u001b[0;34m\u001b[0m\u001b[0m\n",
            "\u001b[0;32m/usr/lib/python3.12/importlib/metadata/_functools.py\u001b[0m in \u001b[0;36mwrapper\u001b[0;34m(param, *args, **kwargs)\u001b[0m\n\u001b[1;32m    100\u001b[0m     \u001b[0;32mdef\u001b[0m \u001b[0mwrapper\u001b[0m\u001b[0;34m(\u001b[0m\u001b[0mparam\u001b[0m\u001b[0;34m,\u001b[0m \u001b[0;34m*\u001b[0m\u001b[0margs\u001b[0m\u001b[0;34m,\u001b[0m \u001b[0;34m**\u001b[0m\u001b[0mkwargs\u001b[0m\u001b[0;34m)\u001b[0m\u001b[0;34m:\u001b[0m\u001b[0;34m\u001b[0m\u001b[0;34m\u001b[0m\u001b[0m\n\u001b[1;32m    101\u001b[0m         \u001b[0;32mif\u001b[0m \u001b[0mparam\u001b[0m \u001b[0;32mis\u001b[0m \u001b[0;32mnot\u001b[0m \u001b[0;32mNone\u001b[0m\u001b[0;34m:\u001b[0m\u001b[0;34m\u001b[0m\u001b[0;34m\u001b[0m\u001b[0m\n\u001b[0;32m--> 102\u001b[0;31m             \u001b[0;32mreturn\u001b[0m \u001b[0mfunc\u001b[0m\u001b[0;34m(\u001b[0m\u001b[0mparam\u001b[0m\u001b[0;34m,\u001b[0m \u001b[0;34m*\u001b[0m\u001b[0margs\u001b[0m\u001b[0;34m,\u001b[0m \u001b[0;34m**\u001b[0m\u001b[0mkwargs\u001b[0m\u001b[0;34m)\u001b[0m\u001b[0;34m\u001b[0m\u001b[0;34m\u001b[0m\u001b[0m\n\u001b[0m\u001b[1;32m    103\u001b[0m \u001b[0;34m\u001b[0m\u001b[0m\n\u001b[1;32m    104\u001b[0m     \u001b[0;32mreturn\u001b[0m \u001b[0mwrapper\u001b[0m\u001b[0;34m\u001b[0m\u001b[0;34m\u001b[0m\u001b[0m\n",
            "\u001b[0;32m/usr/lib/python3.12/importlib/metadata/__init__.py\u001b[0m in \u001b[0;36mskip_missing_files\u001b[0;34m(package_paths)\u001b[0m\n\u001b[1;32m    496\u001b[0m         \u001b[0;34m@\u001b[0m\u001b[0mpass_none\u001b[0m\u001b[0;34m\u001b[0m\u001b[0;34m\u001b[0m\u001b[0m\n\u001b[1;32m    497\u001b[0m         \u001b[0;32mdef\u001b[0m \u001b[0mskip_missing_files\u001b[0m\u001b[0;34m(\u001b[0m\u001b[0mpackage_paths\u001b[0m\u001b[0;34m)\u001b[0m\u001b[0;34m:\u001b[0m\u001b[0;34m\u001b[0m\u001b[0;34m\u001b[0m\u001b[0m\n\u001b[0;32m--> 498\u001b[0;31m             \u001b[0;32mreturn\u001b[0m \u001b[0mlist\u001b[0m\u001b[0;34m(\u001b[0m\u001b[0mfilter\u001b[0m\u001b[0;34m(\u001b[0m\u001b[0;32mlambda\u001b[0m \u001b[0mpath\u001b[0m\u001b[0;34m:\u001b[0m \u001b[0mpath\u001b[0m\u001b[0;34m.\u001b[0m\u001b[0mlocate\u001b[0m\u001b[0;34m(\u001b[0m\u001b[0;34m)\u001b[0m\u001b[0;34m.\u001b[0m\u001b[0mexists\u001b[0m\u001b[0;34m(\u001b[0m\u001b[0;34m)\u001b[0m\u001b[0;34m,\u001b[0m \u001b[0mpackage_paths\u001b[0m\u001b[0;34m)\u001b[0m\u001b[0;34m)\u001b[0m\u001b[0;34m\u001b[0m\u001b[0;34m\u001b[0m\u001b[0m\n\u001b[0m\u001b[1;32m    499\u001b[0m \u001b[0;34m\u001b[0m\u001b[0m\n\u001b[1;32m    500\u001b[0m         return skip_missing_files(\n",
            "\u001b[0;32m/usr/lib/python3.12/importlib/metadata/__init__.py\u001b[0m in \u001b[0;36m<lambda>\u001b[0;34m(path)\u001b[0m\n\u001b[1;32m    496\u001b[0m         \u001b[0;34m@\u001b[0m\u001b[0mpass_none\u001b[0m\u001b[0;34m\u001b[0m\u001b[0;34m\u001b[0m\u001b[0m\n\u001b[1;32m    497\u001b[0m         \u001b[0;32mdef\u001b[0m \u001b[0mskip_missing_files\u001b[0m\u001b[0;34m(\u001b[0m\u001b[0mpackage_paths\u001b[0m\u001b[0;34m)\u001b[0m\u001b[0;34m:\u001b[0m\u001b[0;34m\u001b[0m\u001b[0;34m\u001b[0m\u001b[0m\n\u001b[0;32m--> 498\u001b[0;31m             \u001b[0;32mreturn\u001b[0m \u001b[0mlist\u001b[0m\u001b[0;34m(\u001b[0m\u001b[0mfilter\u001b[0m\u001b[0;34m(\u001b[0m\u001b[0;32mlambda\u001b[0m \u001b[0mpath\u001b[0m\u001b[0;34m:\u001b[0m \u001b[0mpath\u001b[0m\u001b[0;34m.\u001b[0m\u001b[0mlocate\u001b[0m\u001b[0;34m(\u001b[0m\u001b[0;34m)\u001b[0m\u001b[0;34m.\u001b[0m\u001b[0mexists\u001b[0m\u001b[0;34m(\u001b[0m\u001b[0;34m)\u001b[0m\u001b[0;34m,\u001b[0m \u001b[0mpackage_paths\u001b[0m\u001b[0;34m)\u001b[0m\u001b[0;34m)\u001b[0m\u001b[0;34m\u001b[0m\u001b[0;34m\u001b[0m\u001b[0m\n\u001b[0m\u001b[1;32m    499\u001b[0m \u001b[0;34m\u001b[0m\u001b[0m\n\u001b[1;32m    500\u001b[0m         return skip_missing_files(\n",
            "\u001b[0;32m/usr/lib/python3.12/pathlib.py\u001b[0m in \u001b[0;36mexists\u001b[0;34m(self, follow_symlinks)\u001b[0m\n\u001b[1;32m    858\u001b[0m         \"\"\"\n\u001b[1;32m    859\u001b[0m         \u001b[0;32mtry\u001b[0m\u001b[0;34m:\u001b[0m\u001b[0;34m\u001b[0m\u001b[0;34m\u001b[0m\u001b[0m\n\u001b[0;32m--> 860\u001b[0;31m             \u001b[0mself\u001b[0m\u001b[0;34m.\u001b[0m\u001b[0mstat\u001b[0m\u001b[0;34m(\u001b[0m\u001b[0mfollow_symlinks\u001b[0m\u001b[0;34m=\u001b[0m\u001b[0mfollow_symlinks\u001b[0m\u001b[0;34m)\u001b[0m\u001b[0;34m\u001b[0m\u001b[0;34m\u001b[0m\u001b[0m\n\u001b[0m\u001b[1;32m    861\u001b[0m         \u001b[0;32mexcept\u001b[0m \u001b[0mOSError\u001b[0m \u001b[0;32mas\u001b[0m \u001b[0me\u001b[0m\u001b[0;34m:\u001b[0m\u001b[0;34m\u001b[0m\u001b[0;34m\u001b[0m\u001b[0m\n\u001b[1;32m    862\u001b[0m             \u001b[0;32mif\u001b[0m \u001b[0;32mnot\u001b[0m \u001b[0m_ignore_error\u001b[0m\u001b[0;34m(\u001b[0m\u001b[0me\u001b[0m\u001b[0;34m)\u001b[0m\u001b[0;34m:\u001b[0m\u001b[0;34m\u001b[0m\u001b[0;34m\u001b[0m\u001b[0m\n",
            "\u001b[0;32m/usr/lib/python3.12/pathlib.py\u001b[0m in \u001b[0;36mstat\u001b[0;34m(self, follow_symlinks)\u001b[0m\n\u001b[1;32m    838\u001b[0m         \u001b[0mos\u001b[0m\u001b[0;34m.\u001b[0m\u001b[0mstat\u001b[0m\u001b[0;34m(\u001b[0m\u001b[0;34m)\u001b[0m \u001b[0mdoes\u001b[0m\u001b[0;34m.\u001b[0m\u001b[0;34m\u001b[0m\u001b[0;34m\u001b[0m\u001b[0m\n\u001b[1;32m    839\u001b[0m         \"\"\"\n\u001b[0;32m--> 840\u001b[0;31m         \u001b[0;32mreturn\u001b[0m \u001b[0mos\u001b[0m\u001b[0;34m.\u001b[0m\u001b[0mstat\u001b[0m\u001b[0;34m(\u001b[0m\u001b[0mself\u001b[0m\u001b[0;34m,\u001b[0m \u001b[0mfollow_symlinks\u001b[0m\u001b[0;34m=\u001b[0m\u001b[0mfollow_symlinks\u001b[0m\u001b[0;34m)\u001b[0m\u001b[0;34m\u001b[0m\u001b[0;34m\u001b[0m\u001b[0m\n\u001b[0m\u001b[1;32m    841\u001b[0m \u001b[0;34m\u001b[0m\u001b[0m\n\u001b[1;32m    842\u001b[0m     \u001b[0;32mdef\u001b[0m \u001b[0mlstat\u001b[0m\u001b[0;34m(\u001b[0m\u001b[0mself\u001b[0m\u001b[0;34m)\u001b[0m\u001b[0;34m:\u001b[0m\u001b[0;34m\u001b[0m\u001b[0;34m\u001b[0m\u001b[0m\n",
            "\u001b[0;32m/usr/lib/python3.12/pathlib.py\u001b[0m in \u001b[0;36m__fspath__\u001b[0;34m(self)\u001b[0m\n\u001b[1;32m    446\u001b[0m \u001b[0;34m\u001b[0m\u001b[0m\n\u001b[1;32m    447\u001b[0m     \u001b[0;32mdef\u001b[0m \u001b[0m__fspath__\u001b[0m\u001b[0;34m(\u001b[0m\u001b[0mself\u001b[0m\u001b[0;34m)\u001b[0m\u001b[0;34m:\u001b[0m\u001b[0;34m\u001b[0m\u001b[0;34m\u001b[0m\u001b[0m\n\u001b[0;32m--> 448\u001b[0;31m         \u001b[0;32mreturn\u001b[0m \u001b[0mstr\u001b[0m\u001b[0;34m(\u001b[0m\u001b[0mself\u001b[0m\u001b[0;34m)\u001b[0m\u001b[0;34m\u001b[0m\u001b[0;34m\u001b[0m\u001b[0m\n\u001b[0m\u001b[1;32m    449\u001b[0m \u001b[0;34m\u001b[0m\u001b[0m\n\u001b[1;32m    450\u001b[0m     \u001b[0;32mdef\u001b[0m \u001b[0mas_posix\u001b[0m\u001b[0;34m(\u001b[0m\u001b[0mself\u001b[0m\u001b[0;34m)\u001b[0m\u001b[0;34m:\u001b[0m\u001b[0;34m\u001b[0m\u001b[0;34m\u001b[0m\u001b[0m\n",
            "\u001b[0;32m/usr/lib/python3.12/pathlib.py\u001b[0m in \u001b[0;36m__str__\u001b[0;34m(self)\u001b[0m\n\u001b[1;32m    441\u001b[0m             \u001b[0;32mreturn\u001b[0m \u001b[0mself\u001b[0m\u001b[0;34m.\u001b[0m\u001b[0m_str\u001b[0m\u001b[0;34m\u001b[0m\u001b[0;34m\u001b[0m\u001b[0m\n\u001b[1;32m    442\u001b[0m         \u001b[0;32mexcept\u001b[0m \u001b[0mAttributeError\u001b[0m\u001b[0;34m:\u001b[0m\u001b[0;34m\u001b[0m\u001b[0;34m\u001b[0m\u001b[0m\n\u001b[0;32m--> 443\u001b[0;31m             self._str = self._format_parsed_parts(self.drive, self.root,\n\u001b[0m\u001b[1;32m    444\u001b[0m                                                   self._tail) or '.'\n\u001b[1;32m    445\u001b[0m             \u001b[0;32mreturn\u001b[0m \u001b[0mself\u001b[0m\u001b[0;34m.\u001b[0m\u001b[0m_str\u001b[0m\u001b[0;34m\u001b[0m\u001b[0;34m\u001b[0m\u001b[0m\n",
            "\u001b[0;32m/usr/lib/python3.12/pathlib.py\u001b[0m in \u001b[0;36mdrive\u001b[0;34m(self)\u001b[0m\n\u001b[1;32m    555\u001b[0m             \u001b[0;32mreturn\u001b[0m \u001b[0mself\u001b[0m\u001b[0;34m.\u001b[0m\u001b[0m_drv\u001b[0m\u001b[0;34m\u001b[0m\u001b[0;34m\u001b[0m\u001b[0m\n\u001b[1;32m    556\u001b[0m         \u001b[0;32mexcept\u001b[0m \u001b[0mAttributeError\u001b[0m\u001b[0;34m:\u001b[0m\u001b[0;34m\u001b[0m\u001b[0;34m\u001b[0m\u001b[0m\n\u001b[0;32m--> 557\u001b[0;31m             \u001b[0mself\u001b[0m\u001b[0;34m.\u001b[0m\u001b[0m_load_parts\u001b[0m\u001b[0;34m(\u001b[0m\u001b[0;34m)\u001b[0m\u001b[0;34m\u001b[0m\u001b[0;34m\u001b[0m\u001b[0m\n\u001b[0m\u001b[1;32m    558\u001b[0m             \u001b[0;32mreturn\u001b[0m \u001b[0mself\u001b[0m\u001b[0;34m.\u001b[0m\u001b[0m_drv\u001b[0m\u001b[0;34m\u001b[0m\u001b[0;34m\u001b[0m\u001b[0m\n\u001b[1;32m    559\u001b[0m \u001b[0;34m\u001b[0m\u001b[0m\n",
            "\u001b[0;32m/usr/lib/python3.12/pathlib.py\u001b[0m in \u001b[0;36m_load_parts\u001b[0;34m(self)\u001b[0m\n\u001b[1;32m    412\u001b[0m             \u001b[0mpath\u001b[0m \u001b[0;34m=\u001b[0m \u001b[0mpaths\u001b[0m\u001b[0;34m[\u001b[0m\u001b[0;36m0\u001b[0m\u001b[0;34m]\u001b[0m\u001b[0;34m\u001b[0m\u001b[0;34m\u001b[0m\u001b[0m\n\u001b[1;32m    413\u001b[0m         \u001b[0;32melse\u001b[0m\u001b[0;34m:\u001b[0m\u001b[0;34m\u001b[0m\u001b[0;34m\u001b[0m\u001b[0m\n\u001b[0;32m--> 414\u001b[0;31m             \u001b[0mpath\u001b[0m \u001b[0;34m=\u001b[0m \u001b[0mself\u001b[0m\u001b[0;34m.\u001b[0m\u001b[0m_flavour\u001b[0m\u001b[0;34m.\u001b[0m\u001b[0mjoin\u001b[0m\u001b[0;34m(\u001b[0m\u001b[0;34m*\u001b[0m\u001b[0mpaths\u001b[0m\u001b[0;34m)\u001b[0m\u001b[0;34m\u001b[0m\u001b[0;34m\u001b[0m\u001b[0m\n\u001b[0m\u001b[1;32m    415\u001b[0m         \u001b[0mdrv\u001b[0m\u001b[0;34m,\u001b[0m \u001b[0mroot\u001b[0m\u001b[0;34m,\u001b[0m \u001b[0mtail\u001b[0m \u001b[0;34m=\u001b[0m \u001b[0mself\u001b[0m\u001b[0;34m.\u001b[0m\u001b[0m_parse_path\u001b[0m\u001b[0;34m(\u001b[0m\u001b[0mpath\u001b[0m\u001b[0;34m)\u001b[0m\u001b[0;34m\u001b[0m\u001b[0;34m\u001b[0m\u001b[0m\n\u001b[1;32m    416\u001b[0m         \u001b[0mself\u001b[0m\u001b[0;34m.\u001b[0m\u001b[0m_drv\u001b[0m \u001b[0;34m=\u001b[0m \u001b[0mdrv\u001b[0m\u001b[0;34m\u001b[0m\u001b[0;34m\u001b[0m\u001b[0m\n",
            "\u001b[0;32m/usr/lib/python3.12/posixpath.py\u001b[0m in \u001b[0;36mjoin\u001b[0;34m(a, *p)\u001b[0m\n",
            "\u001b[0;31mKeyboardInterrupt\u001b[0m: "
          ]
        }
      ],
      "source": [
        "pip install openpyxl plotly yfinance matplotlib ta pmdarima optuna requests tensorflow"
      ]
    },
    {
      "cell_type": "code",
      "execution_count": null,
      "id": "DFNxAOQWKUDT",
      "metadata": {
        "id": "DFNxAOQWKUDT"
      },
      "outputs": [],
      "source": [
        "## установка talib, pandas_ta не работает с мая\n",
        "url = 'https://anaconda.org/conda-forge/libta-lib/0.4.0/download/linux-64/libta-lib-0.4.0-h166bdaf_1.tar.bz2'\n",
        "!curl -L $url | tar xj -C /usr/lib/x86_64-linux-gnu/ lib --strip-components=1\n",
        "!pip install conda-package-handling\n",
        "!wget https://anaconda.org/conda-forge/ta-lib/0.5.1/download/linux-64/ta-lib-0.5.1-py311h9ecbd09_0.conda\n",
        "!cph x ta-lib-0.5.1-py311h9ecbd09_0.conda\n",
        "!mv ./ta-lib-0.5.1-py311h9ecbd09_0/lib/python3.11/site-packages/talib /usr/local/lib/python3.11/dist-packages/\n",
        "import talib"
      ]
    },
    {
      "cell_type": "code",
      "execution_count": null,
      "id": "d8efccdc-8612-4d9c-93c6-2cd1e062450d",
      "metadata": {
        "id": "d8efccdc-8612-4d9c-93c6-2cd1e062450d"
      },
      "outputs": [],
      "source": [
        "import numpy as np\n",
        "import pandas as pd\n",
        "import requests\n",
        "import talib\n",
        "import statsmodels.api as sm\n",
        "import ta as ta2\n",
        "import plotly.graph_objects as go\n",
        "import matplotlib.pyplot as plt\n",
        "import seaborn as sns\n",
        "from scipy import stats\n",
        "from scipy.stats import ks_2samp\n",
        "import ast\n",
        "import tensorflow as tf\n",
        "from statsmodels.tsa.stattools import grangercausalitytests, adfuller\n",
        "from sklearn.metrics import mean_absolute_error, mean_squared_error, r2_score\n",
        "from tensorflow.keras.callbacks import EarlyStopping\n",
        "from sklearn.svm import SVR\n",
        "from sklearn.model_selection import GridSearchCV, TimeSeriesSplit\n",
        "from sklearn.model_selection import train_test_split\n",
        "from sklearn.preprocessing import MinMaxScaler\n",
        "from sklearn.metrics import mean_absolute_error, mean_squared_error, r2_score\n",
        "from tensorflow.keras.models import Sequential, load_model\n",
        "from tensorflow.keras.layers import LSTM, Dense, Dropout, MaxPooling1D, Conv1D, Flatten\n",
        "from tensorflow.keras.callbacks import EarlyStopping\n",
        "import warnings\n",
        "warnings.filterwarnings('ignore')"
      ]
    },
    {
      "cell_type": "markdown",
      "id": "91573fb5-6a9c-4ba1-b9c1-42a22a8199af",
      "metadata": {
        "id": "91573fb5-6a9c-4ba1-b9c1-42a22a8199af"
      },
      "source": [
        "# Первый датасет"
      ]
    },
    {
      "cell_type": "code",
      "execution_count": null,
      "id": "8e14dff5-283c-4f55-bc3c-ae2167d10536",
      "metadata": {
        "id": "8e14dff5-283c-4f55-bc3c-ae2167d10536"
      },
      "outputs": [],
      "source": [
        "## данные с 1 января 2019 по 9 сентября 2024\n",
        "news_data = pd.read_csv('https://docs.google.com/spreadsheets/d/e/2PACX-1vSTXRo2VOPKprX-FrgiR-iXAIy7tdNUMdyuZc5CE0qffRV8XWMmPhA3O1diMDAvZ7wm2JI9k-G510Ip/pub?output=csv')\n",
        "news_data = news_data[['newsDatetime', 'negative', 'positive', 'important', 'liked', 'disliked', 'comments', 'currencies']]\n",
        "news_data.head(50)"
      ]
    },
    {
      "cell_type": "code",
      "execution_count": null,
      "id": "0964b60c-017d-49b8-9f65-b119aa0b452e",
      "metadata": {
        "id": "0964b60c-017d-49b8-9f65-b119aa0b452e"
      },
      "outputs": [],
      "source": [
        "## преобразуем дату\n",
        "news_data['newsDatetime'] = pd.to_datetime(news_data['newsDatetime'], format='mixed').dt.date\n",
        "news_data"
      ]
    },
    {
      "cell_type": "code",
      "execution_count": null,
      "id": "b35e98e4-fabb-4ecb-b5b3-d8fae13ab3a1",
      "metadata": {
        "id": "b35e98e4-fabb-4ecb-b5b3-d8fae13ab3a1"
      },
      "outputs": [],
      "source": [
        "news_data['newsDatetime'].max()"
      ]
    },
    {
      "cell_type": "code",
      "execution_count": null,
      "id": "a8fffd35-11e2-44e3-ba4c-0243809333e5",
      "metadata": {
        "id": "a8fffd35-11e2-44e3-ba4c-0243809333e5"
      },
      "outputs": [],
      "source": [
        "news_data['newsDatetime'].min()"
      ]
    },
    {
      "cell_type": "code",
      "execution_count": null,
      "id": "1472d998-79f5-4562-a205-5d116ead591e",
      "metadata": {
        "id": "1472d998-79f5-4562-a205-5d116ead591e"
      },
      "outputs": [],
      "source": [
        "news_data['liked'].value_counts()"
      ]
    },
    {
      "cell_type": "code",
      "execution_count": null,
      "id": "a4c2f927-d5cb-42b1-87cd-3c1306aa925e",
      "metadata": {
        "id": "a4c2f927-d5cb-42b1-87cd-3c1306aa925e",
        "scrolled": true
      },
      "outputs": [],
      "source": [
        "## ищем пропуски\n",
        "news_data.isna().sum()"
      ]
    },
    {
      "cell_type": "code",
      "execution_count": null,
      "id": "6d500b62-26c7-4e88-ac53-f75a9565283a",
      "metadata": {
        "id": "6d500b62-26c7-4e88-ac53-f75a9565283a"
      },
      "outputs": [],
      "source": [
        "## на данных видно что есть пропуски в currencies, так что удалим пропущенные значения\n",
        "news_data.dropna(inplace=True)"
      ]
    },
    {
      "cell_type": "markdown",
      "id": "069ec326-92fb-4e84-aac2-4185170b1dab",
      "metadata": {
        "id": "069ec326-92fb-4e84-aac2-4185170b1dab"
      },
      "source": [
        "# Получение датасетов по отдельным криптовалютам"
      ]
    },
    {
      "cell_type": "code",
      "execution_count": null,
      "id": "69443734-f6fc-458e-aa1e-3cba6e5e5600",
      "metadata": {
        "id": "69443734-f6fc-458e-aa1e-3cba6e5e5600"
      },
      "outputs": [],
      "source": [
        "def create_new_dataset(crypto_name):\n",
        "    ## берем данные где содержится название криптовалюты\n",
        "    some_news_data = news_data[news_data['currencies'].str.contains(crypto_name)]\n",
        "    some_news_data.reset_index(inplace=True)\n",
        "    ## убираем уже не нужные столбцы\n",
        "    some_news_data = some_news_data.drop(['currencies', 'index'], axis=1)\n",
        "    ## считаем суммы для параметров\n",
        "    some_news_data = some_news_data.groupby(by='newsDatetime', as_index=False). \\\n",
        "        agg({'negative': 'sum', 'positive': 'sum', 'important': 'sum',\t'liked': 'sum',\t'disliked': 'sum', 'comments': 'sum'})\n",
        "    return some_news_data"
      ]
    },
    {
      "cell_type": "code",
      "execution_count": null,
      "id": "57dc0ddc-dcfb-49d2-b736-6db29f117b0d",
      "metadata": {
        "id": "57dc0ddc-dcfb-49d2-b736-6db29f117b0d"
      },
      "outputs": [],
      "source": [
        "bitcoin_news_data = create_new_dataset('BTC')\n",
        "bitcoin_news_data"
      ]
    },
    {
      "cell_type": "code",
      "execution_count": null,
      "id": "7b3c72ef-48aa-4b61-a9a6-a5f6bffbf4c7",
      "metadata": {
        "id": "7b3c72ef-48aa-4b61-a9a6-a5f6bffbf4c7"
      },
      "outputs": [],
      "source": [
        "eth_news_data = create_new_dataset('ETH')\n",
        "eth_news_data"
      ]
    },
    {
      "cell_type": "code",
      "execution_count": null,
      "id": "619dfad1-a9f2-4553-8dcf-22eba4c079bc",
      "metadata": {
        "id": "619dfad1-a9f2-4553-8dcf-22eba4c079bc"
      },
      "outputs": [],
      "source": [
        "sol_news_data = create_new_dataset('SOL')\n",
        "sol_news_data"
      ]
    },
    {
      "cell_type": "code",
      "execution_count": null,
      "id": "5718f3ac-0453-4a4d-98a9-11c323c4f858",
      "metadata": {
        "id": "5718f3ac-0453-4a4d-98a9-11c323c4f858"
      },
      "outputs": [],
      "source": [
        "card_news_data = create_new_dataset('ADA')\n",
        "card_news_data"
      ]
    },
    {
      "cell_type": "code",
      "execution_count": null,
      "id": "4319c70b-0357-4cb4-881a-a81082945d12",
      "metadata": {
        "id": "4319c70b-0357-4cb4-881a-a81082945d12"
      },
      "outputs": [],
      "source": [
        "ripp_news_data = create_new_dataset('XRP')\n",
        "ripp_news_data"
      ]
    },
    {
      "cell_type": "code",
      "execution_count": null,
      "id": "6701bda1-62a3-4e86-acf9-d307678ea858",
      "metadata": {
        "id": "6701bda1-62a3-4e86-acf9-d307678ea858"
      },
      "outputs": [],
      "source": [
        "doge_news_data = create_new_dataset('DOGE')\n",
        "doge_news_data"
      ]
    },
    {
      "cell_type": "markdown",
      "id": "f88cc742-8a05-4a64-94f4-974b163288f2",
      "metadata": {
        "id": "f88cc742-8a05-4a64-94f4-974b163288f2"
      },
      "source": [
        "# Получение цены криптовалют с помощью API"
      ]
    },
    {
      "cell_type": "code",
      "execution_count": null,
      "id": "d3e7405d-4863-4730-96c5-d5fb858ffb72",
      "metadata": {
        "id": "d3e7405d-4863-4730-96c5-d5fb858ffb72"
      },
      "outputs": [],
      "source": [
        "## функция для получения данных с Binance\n",
        "def get_crypto_price(symbol, interval, days):\n",
        "    api_key = 'ace6a59ff46446659af4e691fab88e22'\n",
        "    api_url = f'https://api.twelvedata.com/time_series?symbol={symbol}&exchange=Binance&interval={interval}&outputsize={days}&apikey={api_key}'\n",
        "    raw = requests.get(api_url).json()\n",
        "    df = pd.DataFrame(raw['values'])\n",
        "    df = df.iloc[::-1].reset_index(drop=True)\n",
        "    return df"
      ]
    },
    {
      "cell_type": "code",
      "execution_count": null,
      "id": "666e32c7-1b03-476f-a5c0-989c23692964",
      "metadata": {
        "id": "666e32c7-1b03-476f-a5c0-989c23692964"
      },
      "outputs": [],
      "source": [
        "## функция для перевода значений в числовой формат\n",
        "def prices_to_numeric(some_prices):\n",
        "    some_prices['open'] = pd.to_numeric(some_prices['open'])\n",
        "    some_prices['high'] = pd.to_numeric(some_prices['high'])\n",
        "    some_prices['low'] = pd.to_numeric(some_prices['low'])\n",
        "    some_prices['close'] = pd.to_numeric(some_prices['close'])\n",
        "    return some_prices"
      ]
    },
    {
      "cell_type": "code",
      "execution_count": null,
      "id": "b9f338f9-6730-4107-8e5b-dd4b778bec1a",
      "metadata": {
        "id": "b9f338f9-6730-4107-8e5b-dd4b778bec1a"
      },
      "outputs": [],
      "source": [
        "bitcoin_prices = get_crypto_price('BTC/USD', '1day', 1431)\n",
        "bitcoin_prices = bitcoin_prices[:1348]\n",
        "bitcoin_prices['datetime'] = pd.to_datetime(bitcoin_prices['datetime'], format='mixed').dt.date\n",
        "bitcoin_prices = prices_to_numeric(bitcoin_prices)\n",
        "bitcoin_prices"
      ]
    },
    {
      "cell_type": "code",
      "execution_count": null,
      "id": "2fa6a351-34fc-46f6-8b98-a4d09b0da62a",
      "metadata": {
        "id": "2fa6a351-34fc-46f6-8b98-a4d09b0da62a"
      },
      "outputs": [],
      "source": [
        "fig = go.Figure()\n",
        "fig.add_trace(go.Scatter(x=bitcoin_prices['datetime'], y=bitcoin_prices['close'], mode='lines', name='VALUE'))\n",
        "fig.update_layout(title='Визуализация цены биткоина', xaxis_title='Дата', yaxis_title='Значение')\n",
        "fig.show()"
      ]
    },
    {
      "cell_type": "code",
      "execution_count": null,
      "id": "dce08d5e-0752-4455-9efa-d5feadbe807f",
      "metadata": {
        "id": "dce08d5e-0752-4455-9efa-d5feadbe807f"
      },
      "outputs": [],
      "source": [
        "eth_prices = get_crypto_price('ETH/USD', '1day', 1428)\n",
        "eth_prices = eth_prices[:1348]\n",
        "eth_prices['datetime'] = pd.to_datetime(eth_prices['datetime'], format='mixed').dt.date\n",
        "eth_prices = prices_to_numeric(eth_prices)\n",
        "eth_prices"
      ]
    },
    {
      "cell_type": "code",
      "execution_count": null,
      "id": "c2125d49-e4e3-476f-b489-4e54418e43a5",
      "metadata": {
        "id": "c2125d49-e4e3-476f-b489-4e54418e43a5"
      },
      "outputs": [],
      "source": [
        "fig = go.Figure()\n",
        "fig.add_trace(go.Scatter(x=eth_prices['datetime'], y=eth_prices['close'], mode='lines', name='VALUE'))\n",
        "fig.update_layout(title='Визуализация цены etherium', xaxis_title='Дата', yaxis_title='Значение')\n",
        "fig.show()"
      ]
    },
    {
      "cell_type": "code",
      "execution_count": null,
      "id": "011b8f4f-3682-44f9-809b-c98146240922",
      "metadata": {
        "id": "011b8f4f-3682-44f9-809b-c98146240922"
      },
      "outputs": [],
      "source": [
        "sol_prices = get_crypto_price('SOL/USD', '1day', 1431)\n",
        "sol_prices = sol_prices[:1348]\n",
        "sol_prices['datetime'] = pd.to_datetime(sol_prices['datetime'], format='mixed').dt.date\n",
        "sol_prices = prices_to_numeric(eth_prices)\n",
        "sol_prices"
      ]
    },
    {
      "cell_type": "code",
      "execution_count": null,
      "id": "67150954-f0f8-42fe-bc1e-26b710051c83",
      "metadata": {
        "id": "67150954-f0f8-42fe-bc1e-26b710051c83"
      },
      "outputs": [],
      "source": [
        "fig = go.Figure()\n",
        "fig.add_trace(go.Scatter(x=sol_prices['datetime'], y=sol_prices['close'], mode='lines', name='VALUE'))\n",
        "fig.update_layout(title='Визуализация цены solana', xaxis_title='Дата', yaxis_title='Значение')\n",
        "fig.show()"
      ]
    },
    {
      "cell_type": "code",
      "execution_count": null,
      "id": "75ff5e9c-2014-4010-bdfd-12dfa3fe3cdd",
      "metadata": {
        "id": "75ff5e9c-2014-4010-bdfd-12dfa3fe3cdd"
      },
      "outputs": [],
      "source": [
        "doge_prices = get_crypto_price('DOGE/USD', '1day', 1431)\n",
        "doge_prices = doge_prices[:1348]\n",
        "doge_prices['datetime'] = pd.to_datetime(doge_prices['datetime'], format='mixed').dt.date\n",
        "doge_prices = prices_to_numeric(eth_prices)\n",
        "doge_prices"
      ]
    },
    {
      "cell_type": "code",
      "execution_count": null,
      "id": "603ab31c-f115-4171-949d-22b27eb2823e",
      "metadata": {
        "id": "603ab31c-f115-4171-949d-22b27eb2823e"
      },
      "outputs": [],
      "source": [
        "fig = go.Figure()\n",
        "fig.add_trace(go.Scatter(x=doge_prices['datetime'], y=doge_prices['close'], mode='lines', name='VALUE'))\n",
        "fig.update_layout(title='Визуализация цены dogecoin', xaxis_title='Дата', yaxis_title='Значение')\n",
        "fig.show()"
      ]
    },
    {
      "cell_type": "code",
      "execution_count": null,
      "id": "5cde6cb4-ede8-4ef4-a8ae-cdb29831d0f2",
      "metadata": {
        "id": "5cde6cb4-ede8-4ef4-a8ae-cdb29831d0f2"
      },
      "outputs": [],
      "source": [
        "ripp_prices = get_crypto_price('XRP/USD', '1day', 1431)\n",
        "ripp_prices = doge_prices[:1348]\n",
        "ripp_prices['datetime'] = pd.to_datetime(ripp_prices['datetime'], format='mixed').dt.date\n",
        "ripp_prices = prices_to_numeric(ripp_prices)\n",
        "ripp_prices"
      ]
    },
    {
      "cell_type": "code",
      "execution_count": null,
      "id": "ca0056d1-1c6e-48c8-911f-c86639fa2fde",
      "metadata": {
        "id": "ca0056d1-1c6e-48c8-911f-c86639fa2fde"
      },
      "outputs": [],
      "source": [
        "fig = go.Figure()\n",
        "fig.add_trace(go.Scatter(x=ripp_prices['datetime'], y=ripp_prices['close'], mode='lines', name='VALUE'))\n",
        "fig.update_layout(title='Визуализация цены ripple', xaxis_title='Дата', yaxis_title='Значение')\n",
        "fig.show()"
      ]
    },
    {
      "cell_type": "code",
      "execution_count": null,
      "id": "fdb6def4-0a58-4edd-8974-581b903c5ad7",
      "metadata": {
        "id": "fdb6def4-0a58-4edd-8974-581b903c5ad7"
      },
      "outputs": [],
      "source": [
        "card_prices = get_crypto_price('ADA/USD', '1day', 1431)\n",
        "card_prices = card_prices[:1348]\n",
        "card_prices['datetime'] = pd.to_datetime(card_prices['datetime'], format='mixed').dt.date\n",
        "card_prices = prices_to_numeric(card_prices)\n",
        "card_prices"
      ]
    },
    {
      "cell_type": "code",
      "execution_count": null,
      "id": "fd276e37-941e-41a4-b429-2898e22e65a2",
      "metadata": {
        "id": "fd276e37-941e-41a4-b429-2898e22e65a2"
      },
      "outputs": [],
      "source": [
        "fig = go.Figure()\n",
        "fig.add_trace(go.Scatter(x=card_prices['datetime'], y=card_prices['close'], mode='lines', name='VALUE'))\n",
        "fig.update_layout(title='Визуализация цены cardano', xaxis_title='Дата', yaxis_title='Значение')\n",
        "fig.show()"
      ]
    },
    {
      "cell_type": "markdown",
      "id": "ad4841e2-2217-4355-a98f-d720288c54e2",
      "metadata": {
        "id": "ad4841e2-2217-4355-a98f-d720288c54e2"
      },
      "source": [
        "# Добавление новых признаков"
      ]
    },
    {
      "cell_type": "code",
      "execution_count": null,
      "id": "d2b1ed66-e234-43b8-b905-7aef5ed13833",
      "metadata": {
        "id": "d2b1ed66-e234-43b8-b905-7aef5ed13833"
      },
      "outputs": [],
      "source": [
        "def adding_new_features(some_prices):\n",
        "    # Индекс относительной силы (RSI)\n",
        "    some_prices['rsi'] = talib.RSI(some_prices['close'], timeperiod=14)\n",
        "\n",
        "    # MACD (Moving Average Convergence Divergence)\n",
        "    macd, signal_line, histogram = talib.MACD(some_prices['close'], \\\n",
        "                    fastperiod=12,slowperiod=26,signalperiod=9)\n",
        "    some_prices['macd'] = macd\n",
        "\n",
        "    # Короткая и длинная скользящие средние\n",
        "    some_prices['moving_average_short'] = talib.SMA(some_prices['close'], timeperiod=20)\n",
        "    some_prices['moving_average_long'] = talib.SMA(some_prices['close'], timeperiod=50)\n",
        "\n",
        "    # Полосы Боллинджера\n",
        "    upper, middle, lower = talib.BBANDS(some_prices['close'],timeperiod=20,nbdevup=2,\n",
        "    nbdevdn=2, matype=0)\n",
        "\n",
        "    some_prices['bollinger_upper'] = upper\n",
        "    some_prices['bollinger_lower'] = lower\n",
        "\n",
        "    # Стохастический осциллятор\n",
        "    slowk, slowd = talib.STOCH(some_prices['high'],some_prices['low'],some_prices['close'],\n",
        "    fastk_period=14,slowk_period=3,slowk_matype=0, slowd_period=3,slowd_matype=0)\n",
        "\n",
        "    some_prices['stoch_k'] = slowk\n",
        "    some_prices['stoch_d'] = slowd\n",
        "\n",
        "    # Средний истинный диапазон (ATR)\n",
        "    some_prices['atr'] = talib.ATR( some_prices['high'], some_prices['low'],\n",
        "        some_prices['close'],timeperiod=14)\n",
        "\n",
        "    # Индекс среднего направленного движения (ADX)\n",
        "    some_prices['adx'] = talib.ADX(some_prices['high'],some_prices['low'],some_prices['close'],\n",
        "                                  timeperiod=14)\n",
        "\n",
        "    # Индикатор Вильямса %R\n",
        "    some_prices['williams_r'] = talib.WILLR(some_prices['high'],some_prices['low'],\n",
        "        some_prices['close'],timeperiod=14)\n",
        "\n",
        "    # Индекс товарного канала (CCI)\n",
        "    some_prices['cci'] = talib.CCI(some_prices['high'],some_prices['low'],some_prices['close'],\n",
        "                                   timeperiod=20)\n",
        "\n",
        "\n",
        "    # Заполнение пропущенных значений\n",
        "    some_prices.fillna(0, inplace=True)\n",
        "\n",
        "    return some_prices"
      ]
    },
    {
      "cell_type": "code",
      "execution_count": null,
      "id": "06ff7a5c-ad61-4fd2-882d-fc8252e96de0",
      "metadata": {
        "id": "06ff7a5c-ad61-4fd2-882d-fc8252e96de0"
      },
      "outputs": [],
      "source": [
        "adding_new_features(bitcoin_prices)"
      ]
    },
    {
      "cell_type": "code",
      "execution_count": null,
      "id": "14325d84-6289-49a0-a7f3-375462a2bd4f",
      "metadata": {
        "id": "14325d84-6289-49a0-a7f3-375462a2bd4f"
      },
      "outputs": [],
      "source": [
        "## сделаем одну таблицу со всеми признаками\n",
        "bitcoin_data = bitcoin_news_data.merge(bitcoin_prices, how='inner', left_on='newsDatetime', right_on='datetime')\n",
        "## уберем повторяющийся столбец\n",
        "bitcoin_data.drop(['datetime'], inplace=True, axis=1)\n",
        "bitcoin_data"
      ]
    },
    {
      "cell_type": "code",
      "execution_count": null,
      "id": "8a00e124-9e7b-4c3c-ae1b-740a52c6fc17",
      "metadata": {
        "id": "8a00e124-9e7b-4c3c-ae1b-740a52c6fc17"
      },
      "outputs": [],
      "source": [
        "## надо построить график"
      ]
    },
    {
      "cell_type": "code",
      "execution_count": null,
      "id": "90ded13f-0721-47c4-a463-556f3f1ad2be",
      "metadata": {
        "id": "90ded13f-0721-47c4-a463-556f3f1ad2be"
      },
      "outputs": [],
      "source": [
        "adding_new_features(eth_prices)"
      ]
    },
    {
      "cell_type": "code",
      "execution_count": null,
      "id": "509b959a-6c79-423f-bd28-9d09f83ceb79",
      "metadata": {
        "id": "509b959a-6c79-423f-bd28-9d09f83ceb79"
      },
      "outputs": [],
      "source": [
        "## сделаем одну таблицу со всеми признаками\n",
        "eth_data = eth_news_data.merge(eth_prices, how='inner', left_on='newsDatetime', right_on='datetime')\n",
        "## уберем повторяющийся столбец\n",
        "eth_data.drop(['datetime'], inplace=True, axis=1)\n",
        "eth_data"
      ]
    },
    {
      "cell_type": "code",
      "execution_count": null,
      "id": "15999614-66a2-4817-8832-daf422b5c468",
      "metadata": {
        "id": "15999614-66a2-4817-8832-daf422b5c468"
      },
      "outputs": [],
      "source": [
        "adding_new_features(sol_prices)"
      ]
    },
    {
      "cell_type": "code",
      "execution_count": null,
      "id": "8bcadf9d-d1a5-409a-b5e3-f76c6b7159a1",
      "metadata": {
        "id": "8bcadf9d-d1a5-409a-b5e3-f76c6b7159a1"
      },
      "outputs": [],
      "source": [
        "## сделаем одну таблицу со всеми признаками\n",
        "sol_data = sol_news_data.merge(sol_prices, how='inner', left_on='newsDatetime', right_on='datetime')\n",
        "## уберем повторяющийся столбец\n",
        "sol_data.drop(['datetime'], inplace=True, axis=1)\n",
        "sol_data"
      ]
    },
    {
      "cell_type": "code",
      "execution_count": null,
      "id": "e569bfa8-4198-400e-9c0f-ab43661c5b85",
      "metadata": {
        "id": "e569bfa8-4198-400e-9c0f-ab43661c5b85"
      },
      "outputs": [],
      "source": [
        "adding_new_features(doge_prices)"
      ]
    },
    {
      "cell_type": "code",
      "execution_count": null,
      "id": "bf7cca15-a66e-4b83-a361-8d99d80686eb",
      "metadata": {
        "id": "bf7cca15-a66e-4b83-a361-8d99d80686eb"
      },
      "outputs": [],
      "source": [
        "## сделаем одну таблицу со всеми признаками\n",
        "doge_data = doge_news_data.merge(doge_prices, how='inner', left_on='newsDatetime', right_on='datetime')\n",
        "## уберем повторяющийся столбец\n",
        "doge_data.drop(['datetime'], inplace=True, axis=1)\n",
        "doge_data"
      ]
    },
    {
      "cell_type": "code",
      "execution_count": null,
      "id": "d33920fd-b5e8-4c5e-bbb6-f431e6b40723",
      "metadata": {
        "id": "d33920fd-b5e8-4c5e-bbb6-f431e6b40723"
      },
      "outputs": [],
      "source": [
        "adding_new_features(ripp_prices)"
      ]
    },
    {
      "cell_type": "code",
      "execution_count": null,
      "id": "efa7dd43-d680-4dc1-ab5f-baa5c8107aeb",
      "metadata": {
        "id": "efa7dd43-d680-4dc1-ab5f-baa5c8107aeb"
      },
      "outputs": [],
      "source": [
        "## сделаем одну таблицу со всеми признаками\n",
        "ripp_data = ripp_news_data.merge(ripp_prices, how='inner', left_on='newsDatetime', right_on='datetime')\n",
        "## уберем повторяющийся столбец\n",
        "ripp_data.drop(['datetime'], inplace=True, axis=1)\n",
        "ripp_data"
      ]
    },
    {
      "cell_type": "code",
      "execution_count": null,
      "id": "20268d49-4d95-4d89-ba50-31151b77c922",
      "metadata": {
        "id": "20268d49-4d95-4d89-ba50-31151b77c922"
      },
      "outputs": [],
      "source": [
        "adding_new_features(card_prices)"
      ]
    },
    {
      "cell_type": "code",
      "execution_count": null,
      "id": "e84c8e65-580c-43f3-9be6-deb7b23acdc6",
      "metadata": {
        "id": "e84c8e65-580c-43f3-9be6-deb7b23acdc6"
      },
      "outputs": [],
      "source": [
        "## сделаем одну таблицу со всеми признаками\n",
        "card_data = card_news_data.merge(card_prices, how='inner', left_on='newsDatetime', right_on='datetime')\n",
        "## уберем повторяющийся столбец\n",
        "card_data.drop(['datetime'], inplace=True, axis=1)\n",
        "card_data"
      ]
    },
    {
      "cell_type": "markdown",
      "id": "b6c2f135-f861-4185-8aea-c1313d8ea0d0",
      "metadata": {
        "id": "b6c2f135-f861-4185-8aea-c1313d8ea0d0"
      },
      "source": [
        "# Визуализация признаков временных рядов"
      ]
    },
    {
      "cell_type": "code",
      "execution_count": null,
      "id": "007b6826-fc6d-4516-a987-4fab3483e82b",
      "metadata": {
        "id": "007b6826-fc6d-4516-a987-4fab3483e82b"
      },
      "outputs": [],
      "source": [
        "def visualize_with_plotly(technical_data):\n",
        "    fig = go.Figure()\n",
        "\n",
        "    # negative\n",
        "    fig.add_trace(go.Scatter(x=technical_data['newsDatetime'], y=technical_data['negative'], mode='lines', name='NEGATIVE'))\n",
        "\n",
        "    # positive\n",
        "    fig.add_trace(go.Scatter(x=technical_data['newsDatetime'], y=technical_data['positive'], mode='lines', name='POSITIVE'))\n",
        "\n",
        "    # important\n",
        "    fig.add_trace(go.Scatter(x=technical_data['newsDatetime'], y=technical_data['important'], mode='lines', name='IMPORTANT'))\n",
        "\n",
        "\n",
        "    # liked\n",
        "    fig.add_trace(go.Scatter(x=technical_data['newsDatetime'], y=technical_data['liked'], mode='lines', name='LIKED'))\n",
        "\n",
        "    # disliked\n",
        "    fig.add_trace(go.Scatter(x=technical_data['newsDatetime'], y=technical_data['disliked'], mode='lines', name='DISLIKED'))\n",
        "\n",
        "    # comments\n",
        "    fig.add_trace(go.Scatter(x=technical_data['newsDatetime'], y=technical_data['comments'], mode='lines', name='COMMENTS'))\n",
        "\n",
        "    fig.update_layout(title='Визуализация данных из соцсетей', xaxis_title='Дата', yaxis_title='Значение')\n",
        "    fig.show()"
      ]
    },
    {
      "cell_type": "code",
      "execution_count": null,
      "id": "28ddf3fb-ff56-4b12-bad0-f3e857f0ac7f",
      "metadata": {
        "id": "28ddf3fb-ff56-4b12-bad0-f3e857f0ac7f"
      },
      "outputs": [],
      "source": [
        "## для bitcoin\n",
        "visualize_with_plotly(bitcoin_data)"
      ]
    },
    {
      "cell_type": "code",
      "execution_count": null,
      "id": "ee8cf50e-3963-452f-8d41-9cea25abc381",
      "metadata": {
        "id": "ee8cf50e-3963-452f-8d41-9cea25abc381"
      },
      "outputs": [],
      "source": [
        "## для etherium\n",
        "visualize_with_plotly(eth_data)"
      ]
    },
    {
      "cell_type": "code",
      "execution_count": null,
      "id": "ecb95fea-83bf-400f-895a-3bb4fcf82d40",
      "metadata": {
        "id": "ecb95fea-83bf-400f-895a-3bb4fcf82d40"
      },
      "outputs": [],
      "source": [
        "## для solana\n",
        "visualize_with_plotly(sol_data)"
      ]
    },
    {
      "cell_type": "code",
      "execution_count": null,
      "id": "fdfd5f0a-19f3-4b36-be35-1f200fe6bac2",
      "metadata": {
        "id": "fdfd5f0a-19f3-4b36-be35-1f200fe6bac2"
      },
      "outputs": [],
      "source": [
        "## для ripple\n",
        "visualize_with_plotly(ripp_data)"
      ]
    },
    {
      "cell_type": "code",
      "execution_count": null,
      "id": "44c5151d-336a-470f-8c44-d674068f5cff",
      "metadata": {
        "id": "44c5151d-336a-470f-8c44-d674068f5cff"
      },
      "outputs": [],
      "source": [
        "## для dogecoin\n",
        "visualize_with_plotly(doge_data)"
      ]
    },
    {
      "cell_type": "code",
      "execution_count": null,
      "id": "70014410-8a9f-4fe6-ac09-60e30ba5da81",
      "metadata": {
        "id": "70014410-8a9f-4fe6-ac09-60e30ba5da81"
      },
      "outputs": [],
      "source": [
        "## для cardano\n",
        "visualize_with_plotly(card_data)"
      ]
    },
    {
      "cell_type": "markdown",
      "id": "e9ad0bf1-5b97-4c1a-aef0-3b17b49fc82b",
      "metadata": {
        "id": "e9ad0bf1-5b97-4c1a-aef0-3b17b49fc82b"
      },
      "source": [
        "# Удаление выбросов(для числовых данных)"
      ]
    },
    {
      "cell_type": "code",
      "execution_count": null,
      "id": "8d56748e-160d-4437-9c12-4c9fdd1c6735",
      "metadata": {
        "id": "8d56748e-160d-4437-9c12-4c9fdd1c6735"
      },
      "outputs": [],
      "source": [
        "def remove_outliers(df, column):\n",
        "    Q1 = df[column].quantile(0.25)\n",
        "    Q3 = df[column].quantile(0.75)\n",
        "    IQR = Q3 - Q1\n",
        "    lower_bound = Q1 - 1.5 * IQR\n",
        "    upper_bound = Q3 + 1.5 * IQR\n",
        "    return df[(df[column] >= lower_bound) & (df[column] <= upper_bound)]\n",
        "\n",
        "def data_clean(some_data):\n",
        "    some_data_clean = some_data.copy()\n",
        "    columns_to_normalize = ['close', 'negative', 'positive']\n",
        "    if columns_to_normalize:\n",
        "        for col in columns_to_normalize:\n",
        "            some_data_clean  = remove_outliers(some_data_clean, col)\n",
        "    some_data_clean.reset_index(inplace=True, drop=True)\n",
        "    return some_data_clean\n"
      ]
    },
    {
      "cell_type": "code",
      "execution_count": null,
      "id": "3753f785-97d0-42d1-9b79-a888e7873193",
      "metadata": {
        "id": "3753f785-97d0-42d1-9b79-a888e7873193"
      },
      "outputs": [],
      "source": [
        "def remove_zero_sum(some_data):\n",
        "    sum_values = some_data['negative'] + some_data['positive']\t+ some_data['important'] \\\n",
        "        + some_data['liked'] + some_data['disliked'] + some_data['comments']\n",
        "    some_data = some_data[sum_values != 0]\n",
        "    some_data.reset_index(drop=True, inplace=True)\n",
        "    return some_data"
      ]
    },
    {
      "cell_type": "code",
      "execution_count": null,
      "id": "702a7f06-a5c4-4544-ac9a-f32ed99e1ccf",
      "metadata": {
        "id": "702a7f06-a5c4-4544-ac9a-f32ed99e1ccf"
      },
      "outputs": [],
      "source": [
        "bitcoin_data_clean = data_clean(bitcoin_data)\n",
        "bitcoin_data_clean = remove_zero_sum(bitcoin_data_clean)\n",
        "bitcoin_data_clean['diff'] = bitcoin_data_clean['positive'] - bitcoin_data_clean['negative']\n",
        "bitcoin_data_clean"
      ]
    },
    {
      "cell_type": "code",
      "execution_count": null,
      "id": "d0ffce85-6539-4b0c-a638-f6b884f5ad07",
      "metadata": {
        "id": "d0ffce85-6539-4b0c-a638-f6b884f5ad07"
      },
      "outputs": [],
      "source": [
        "eth_data_clean = data_clean(eth_data)\n",
        "eth_data_clean = remove_zero_sum(eth_data_clean)\n",
        "eth_data_clean['diff'] = eth_data_clean['positive'] - eth_data_clean['negative']\n",
        "eth_data_clean"
      ]
    },
    {
      "cell_type": "code",
      "execution_count": null,
      "id": "628c7f4a-b565-48e3-96c1-1979c7a47044",
      "metadata": {
        "id": "628c7f4a-b565-48e3-96c1-1979c7a47044"
      },
      "outputs": [],
      "source": [
        "sol_data_clean = data_clean(sol_data)\n",
        "sol_data_clean = remove_zero_sum(sol_data_clean)\n",
        "sol_data_clean['diff'] = sol_data_clean['positive'] - sol_data_clean['negative']\n",
        "sol_data_clean"
      ]
    },
    {
      "cell_type": "code",
      "execution_count": null,
      "id": "5e94da67-e068-4c62-967b-d59e3ed6f80c",
      "metadata": {
        "id": "5e94da67-e068-4c62-967b-d59e3ed6f80c"
      },
      "outputs": [],
      "source": [
        "doge_data_clean = data_clean(doge_data)\n",
        "doge_data_clean = remove_zero_sum(doge_data_clean)\n",
        "doge_data_clean['diff'] = doge_data_clean['positive'] - doge_data_clean['negative']\n",
        "doge_data_clean"
      ]
    },
    {
      "cell_type": "code",
      "execution_count": null,
      "id": "8654b8c7-9f59-412d-8aec-d085bc2bbb32",
      "metadata": {
        "id": "8654b8c7-9f59-412d-8aec-d085bc2bbb32"
      },
      "outputs": [],
      "source": [
        "ripp_data_clean = data_clean(ripp_data)\n",
        "ripp_data_clean = remove_zero_sum(ripp_data_clean)\n",
        "ripp_data_clean['diff'] = ripp_data_clean['positive'] - ripp_data_clean['negative']\n",
        "ripp_data_clean"
      ]
    },
    {
      "cell_type": "code",
      "execution_count": null,
      "id": "a8d792a2-8aec-4f8f-8ebd-cecaa8ece552",
      "metadata": {
        "id": "a8d792a2-8aec-4f8f-8ebd-cecaa8ece552"
      },
      "outputs": [],
      "source": [
        "card_data_clean = data_clean(card_data)\n",
        "card_data_clean = remove_zero_sum(card_data_clean)\n",
        "card_data_clean['diff'] = card_data_clean['positive'] - card_data_clean['negative']\n",
        "card_data_clean"
      ]
    },
    {
      "cell_type": "markdown",
      "id": "93be9ac0-5f5e-41b3-b641-501b3bccb7e1",
      "metadata": {
        "id": "93be9ac0-5f5e-41b3-b641-501b3bccb7e1"
      },
      "source": [
        "# Второй датасет"
      ]
    },
    {
      "cell_type": "code",
      "execution_count": null,
      "id": "3ed920f8-1152-4f03-ae31-1ef934c1a66a",
      "metadata": {
        "id": "3ed920f8-1152-4f03-ae31-1ef934c1a66a"
      },
      "outputs": [],
      "source": [
        "data = pd.read_csv('https://docs.google.com/spreadsheets/d/e/2PACX-1vQDvTddWwdOUSuPtsn94kN_nuaIBa88H7nsCdKJsvrdz2D_cQk6i7HYEg46RCYjMu6gnephSqQqodq9/pub?output=csv').drop(['source', 'text', 'url'], axis=1)\n",
        "data"
      ]
    },
    {
      "cell_type": "code",
      "execution_count": null,
      "id": "584ad8eb-807f-4e0f-86cd-7744eb7de65a",
      "metadata": {
        "id": "584ad8eb-807f-4e0f-86cd-7744eb7de65a"
      },
      "outputs": [],
      "source": [
        "data['date'] = pd.to_datetime(data['date'], format='mixed').dt.date\n",
        "data"
      ]
    },
    {
      "cell_type": "code",
      "execution_count": null,
      "id": "549d8f7f-2d5c-4e8a-b7ab-7b6c695e1ab5",
      "metadata": {
        "id": "549d8f7f-2d5c-4e8a-b7ab-7b6c695e1ab5"
      },
      "outputs": [],
      "source": [
        "## функция для перевода класса в числовой формат\n",
        "def class_to_num(x):\n",
        "    if x == 'negative':\n",
        "        return -1\n",
        "    elif x == 'positive':\n",
        "        return 1\n",
        "    elif x == 'neutral':\n",
        "        return 0"
      ]
    },
    {
      "cell_type": "code",
      "execution_count": null,
      "id": "017cd6a9-3f5c-47d9-9868-a1b1ca89d86d",
      "metadata": {
        "id": "017cd6a9-3f5c-47d9-9868-a1b1ca89d86d"
      },
      "outputs": [],
      "source": [
        "## парсинг столбца sentiment\n",
        "data['class'] = data['sentiment'].apply(lambda x: ast.literal_eval(x)['class']).apply(class_to_num)\n",
        "data['polarity'] = data['sentiment'].apply(lambda x: ast.literal_eval(x)['polarity'])\n",
        "data['subjectivity'] = data['sentiment'].apply(lambda x: ast.literal_eval(x)['subjectivity'])\n",
        "## удаление столбца sentiment (все данные уже были извлечены)\n",
        "data = data.drop(['sentiment'], axis=1)\n",
        "data"
      ]
    },
    {
      "cell_type": "code",
      "execution_count": null,
      "id": "a09a533f-610f-43d8-8958-48cdb82f1c7b",
      "metadata": {
        "id": "a09a533f-610f-43d8-8958-48cdb82f1c7b"
      },
      "outputs": [],
      "source": [
        "## создание датасета с новостями про биткоин\n",
        "bitcoin_news = data[data['subject'].str.contains('bitcoin')]\n",
        "bitcoin_news = bitcoin_news.reset_index(drop=True)\n",
        "## введем индекс, который будет произведением типа новости(хорошая, плохая и нейтральная) и субъективности новости\n",
        "bitcoin_news['index'] = bitcoin_news['class'] * bitcoin_news['subjectivity']\n",
        "## найдем среднее значение полученного индекса и суммы типа новостей(т.е разницы между хорошими и плохими новостями)\n",
        "bitcoin_news = bitcoin_news.groupby(\"date\", as_index=False).agg({'index': 'mean', 'class': 'sum'})\n",
        "bitcoin_news.columns = list(map(''.join, bitcoin_news.columns.values))\n",
        "bitcoin_news.rename(columns={'index':'mean_index', 'class': 'class_diff'}, inplace=True)\n",
        "bitcoin_news"
      ]
    },
    {
      "cell_type": "code",
      "execution_count": null,
      "id": "8f3fdbfa-3e5c-44a5-8442-b6c5d8afaf35",
      "metadata": {
        "id": "8f3fdbfa-3e5c-44a5-8442-b6c5d8afaf35"
      },
      "outputs": [],
      "source": [
        "## сделаем новый датасет со всеми признаками\n",
        "bitcoin_data_new = bitcoin_news.merge(bitcoin_prices, how='inner', left_on='date', right_on='datetime')\n",
        "## уберем повторяющийся столбец\n",
        "bitcoin_data_new.drop(['datetime'], inplace=True, axis=1)\n",
        "bitcoin_data_new"
      ]
    },
    {
      "cell_type": "code",
      "execution_count": null,
      "id": "e1bde467-fb73-429a-9f88-ca0ef63f57e9",
      "metadata": {
        "id": "e1bde467-fb73-429a-9f88-ca0ef63f57e9"
      },
      "outputs": [],
      "source": [
        "## создание датасета с новостями про etherium\n",
        "eth_news = data[data['subject'].str.contains('ethereum')]\n",
        "eth_news = eth_news.reset_index(drop=True)\n",
        "## введем индекс, который будет произведением типа новости(хорошая, плохая и нейтральная) и субъективности новости\n",
        "eth_news['index'] = eth_news['class'] * eth_news['subjectivity']\n",
        "## найдем среднее значение полученного индекса и суммы типа новостей(т.е разницы между хорошими и плохими новостями)\n",
        "eth_news = eth_news.groupby(\"date\", as_index=False).agg({'index': 'mean', 'class': 'sum'})\n",
        "eth_news.columns = list(map(''.join, eth_news.columns.values))\n",
        "eth_news.rename(columns={'index':'mean_index', 'class': 'class_diff'}, inplace=True)\n",
        "eth_news"
      ]
    },
    {
      "cell_type": "code",
      "execution_count": null,
      "id": "c347049d-3910-49c6-9297-25ff99738d72",
      "metadata": {
        "id": "c347049d-3910-49c6-9297-25ff99738d72"
      },
      "outputs": [],
      "source": [
        "## сделаем новый датасет со всеми признаками\n",
        "eth_data_new = eth_news.merge(eth_prices, how='inner', left_on='date', right_on='datetime')\n",
        "## уберем повторяющийся столбец\n",
        "eth_data_new.drop(['datetime'], inplace=True, axis=1)\n",
        "eth_data_new"
      ]
    },
    {
      "cell_type": "markdown",
      "id": "9232f45d-ea1c-4a0e-91dc-15eaa70d27b7",
      "metadata": {
        "id": "9232f45d-ea1c-4a0e-91dc-15eaa70d27b7"
      },
      "source": [
        "# Визуализация новых признаков"
      ]
    },
    {
      "cell_type": "code",
      "execution_count": null,
      "id": "40aa59b4-c4e0-4f98-85b9-2aab6bab656a",
      "metadata": {
        "id": "40aa59b4-c4e0-4f98-85b9-2aab6bab656a"
      },
      "outputs": [],
      "source": [
        "bitcoin_prices"
      ]
    },
    {
      "cell_type": "code",
      "execution_count": null,
      "id": "14a2ae84-04e2-495a-a6eb-b3edf2b61285",
      "metadata": {
        "id": "14a2ae84-04e2-495a-a6eb-b3edf2b61285"
      },
      "outputs": [],
      "source": [
        "# Визуализация с использованием Matplotlib и Seaborn\n",
        "def visualize_with_matplotlib(technical_data):\n",
        "    # Фигура и подграфики\n",
        "    fig, axs = plt.subplots(4, 2, figsize=(14, 16))\n",
        "\n",
        "    # Индикаторы RSI и MACD\n",
        "    sns.lineplot(x='datetime', y='rsi', data=technical_data, ax=axs[0, 0])\n",
        "    axs[0, 0].set_title('RSI (Индекс относительной силы)')\n",
        "\n",
        "    sns.lineplot(x='datetime', y='macd', data=technical_data, ax=axs[0, 1])\n",
        "    axs[0, 1].set_title('MACD (Конвергенция/дивергенция скользящих средних)')\n",
        "\n",
        "    # Полосы Боллинджера\n",
        "    sns.lineplot(x='datetime', y='bollinger_upper', data=technical_data, ax=axs[1, 0], label='Верхняя полоса')\n",
        "    sns.lineplot(x='datetime', y='bollinger_lower', data=technical_data, ax=axs[1, 0], label='Нижняя полоса')\n",
        "    axs[1, 0].set_title('Полосы Боллинджера')\n",
        "\n",
        "    # Скользящие средние\n",
        "    sns.lineplot(x='datetime', y='moving_average_short', data=technical_data, ax=axs[1, 1], label='Короткая СМА')\n",
        "    sns.lineplot(x='datetime', y='moving_average_long', data=technical_data, ax=axs[1, 1], label='Длинная СМА')\n",
        "    axs[1, 1].set_title('Скользящие средние')\n",
        "\n",
        "    # Стохастический осциллятор K и D\n",
        "    sns.lineplot(x='datetime', y='stoch_k', data=technical_data, ax=axs[2, 0], label='Стох. K')\n",
        "    sns.lineplot(x='datetime', y='stoch_d', data=technical_data, ax=axs[2, 0], label='Стох. D')\n",
        "    axs[2, 0].set_title('Стохастический осциллятор')\n",
        "\n",
        "    # ATR (Средний истинный диапазон)\n",
        "    sns.lineplot(x='datetime', y='atr', data=technical_data, ax=axs[2, 1])\n",
        "    axs[2, 1].set_title('ATR (Средний истинный диапазон)')\n",
        "\n",
        "    # ADX (Индекс среднего направленного движения)\n",
        "    sns.lineplot(x='datetime', y='adx', data=technical_data, ax=axs[3, 0])\n",
        "    axs[3, 0].set_title('ADX (Индекс среднего направленного движения)')\n",
        "\n",
        "    # самая высокая цена за день\n",
        "    sns.lineplot(x='datetime', y='high', data=technical_data, ax=axs[3, 1])\n",
        "    axs[3, 1].set_title('Максимальная цена за день')\n",
        "\n",
        "    plt.tight_layout()\n",
        "    plt.show()\n"
      ]
    },
    {
      "cell_type": "code",
      "execution_count": null,
      "id": "55b31040-eaf3-423d-af07-f0f560d3b2f2",
      "metadata": {
        "id": "55b31040-eaf3-423d-af07-f0f560d3b2f2"
      },
      "outputs": [],
      "source": [
        "visualize_with_matplotlib(bitcoin_prices)"
      ]
    },
    {
      "cell_type": "code",
      "execution_count": null,
      "id": "52c1de4c-3c33-4c5f-9e37-1cf1cab0abf8",
      "metadata": {
        "id": "52c1de4c-3c33-4c5f-9e37-1cf1cab0abf8"
      },
      "outputs": [],
      "source": [
        "visualize_with_matplotlib(eth_prices)"
      ]
    },
    {
      "cell_type": "code",
      "execution_count": null,
      "id": "26ab0517-9d85-49b0-b9df-e450b9e2c5f4",
      "metadata": {
        "id": "26ab0517-9d85-49b0-b9df-e450b9e2c5f4"
      },
      "outputs": [],
      "source": [
        "visualize_with_matplotlib(doge_prices)"
      ]
    },
    {
      "cell_type": "code",
      "execution_count": null,
      "id": "5c3fc35c-eced-4bf9-84ab-c2292b1bf6c7",
      "metadata": {
        "id": "5c3fc35c-eced-4bf9-84ab-c2292b1bf6c7"
      },
      "outputs": [],
      "source": [
        "visualize_with_matplotlib(ripp_prices)"
      ]
    },
    {
      "cell_type": "code",
      "execution_count": null,
      "id": "dde6e8e1-8cc8-42ab-8bc6-e6e00cfd5536",
      "metadata": {
        "id": "dde6e8e1-8cc8-42ab-8bc6-e6e00cfd5536"
      },
      "outputs": [],
      "source": [
        "visualize_with_matplotlib(sol_prices)"
      ]
    },
    {
      "cell_type": "code",
      "execution_count": null,
      "id": "b8ba3c8b-cab5-472b-8231-95417b31f9e3",
      "metadata": {
        "id": "b8ba3c8b-cab5-472b-8231-95417b31f9e3"
      },
      "outputs": [],
      "source": [
        "visualize_with_matplotlib(card_prices)"
      ]
    },
    {
      "cell_type": "markdown",
      "id": "50aba43d-a981-437c-9fe7-3454e4633636",
      "metadata": {
        "id": "50aba43d-a981-437c-9fe7-3454e4633636"
      },
      "source": [
        "# Нормализация данных"
      ]
    },
    {
      "cell_type": "code",
      "execution_count": null,
      "id": "125241fd-95af-45ba-8369-7439c7578e67",
      "metadata": {
        "id": "125241fd-95af-45ba-8369-7439c7578e67"
      },
      "outputs": [],
      "source": [
        "def normalizer(some_data, train_split):\n",
        "    some_data_mean = some_data.iloc[:train_split, 1:].mean()\n",
        "    some_data_std = some_data.iloc[:train_split, 1:].std()\n",
        "\n",
        "    some_data.iloc[:train_split, 1:] = (some_data.iloc[:train_split, 1:] - some_data_mean) / some_data_std\n",
        "    return some_data, some_data_mean, some_data_std"
      ]
    },
    {
      "cell_type": "code",
      "execution_count": null,
      "id": "18dbb4ea-d466-442b-a680-81d90b2be6f4",
      "metadata": {
        "id": "18dbb4ea-d466-442b-a680-81d90b2be6f4"
      },
      "outputs": [],
      "source": [
        "BITCOIN_train_split = 750\n",
        "#bitcoin_data_clean, bitcoin_data_mean, bitcoin_data_std = normalizer(bitcoin_data_clean, BITCOIN_train_split)\n",
        "bitcoin_data_clean"
      ]
    },
    {
      "cell_type": "code",
      "execution_count": null,
      "id": "8d990245-4443-4905-a040-3c3f531d8b11",
      "metadata": {
        "id": "8d990245-4443-4905-a040-3c3f531d8b11"
      },
      "outputs": [],
      "source": [
        "ETH_train_split = 750\n",
        "#eth_data_clean, eth_data_mean, eth_data_std = normalizer(eth_data_clean, ETH_train_split)\n",
        "eth_data_clean"
      ]
    },
    {
      "cell_type": "code",
      "execution_count": null,
      "id": "d2e75ab5-00f3-49c3-9460-8f871a98ea25",
      "metadata": {
        "id": "d2e75ab5-00f3-49c3-9460-8f871a98ea25"
      },
      "outputs": [],
      "source": [
        "SOL_train_split = 550\n",
        "#sol_data_clean, sol_data_mean, sol_data_std = normalizer(sol_data_clean, SOL_train_split)\n",
        "sol_data_clean"
      ]
    },
    {
      "cell_type": "code",
      "execution_count": null,
      "id": "08c6e0bb-d12b-464b-8f8d-f722bf4fda0d",
      "metadata": {
        "id": "08c6e0bb-d12b-464b-8f8d-f722bf4fda0d"
      },
      "outputs": [],
      "source": [
        "DOGE_train_split = 480\n",
        "#doge_data_clean, doge_data_mean, doge_data_std = normalizer(doge_data_clean, DOGE_train_split)\n",
        "doge_data_clean"
      ]
    },
    {
      "cell_type": "code",
      "execution_count": null,
      "id": "b318d090-61c7-47d1-841e-c5c307973f63",
      "metadata": {
        "id": "b318d090-61c7-47d1-841e-c5c307973f63"
      },
      "outputs": [],
      "source": [
        "RIPP_train_split = 650\n",
        "#ripp_data_clean, ripp_data_mean, ripp_data_std = normalizer(ripp_data_clean, RIPP_train_split)\n",
        "ripp_data_clean"
      ]
    },
    {
      "cell_type": "code",
      "execution_count": null,
      "id": "5da40901-3d29-444b-9fd3-dcb65169bcee",
      "metadata": {
        "id": "5da40901-3d29-444b-9fd3-dcb65169bcee"
      },
      "outputs": [],
      "source": [
        "CARD_train_split = 700\n",
        "#card_data_clean, card_data_mean, card_data_std = normalizer(card_data_clean, CARD_train_split)\n",
        "card_data_clean"
      ]
    },
    {
      "cell_type": "code",
      "execution_count": null,
      "id": "0a71bd19-e748-4184-acbf-fe7a92b4fe84",
      "metadata": {
        "id": "0a71bd19-e748-4184-acbf-fe7a92b4fe84"
      },
      "outputs": [],
      "source": [
        "#BITCOIN_train_split_new = 600\n",
        "#bitcoin_data_new = normalizer(bitcoin_data_new, BITCOIN_train_split_new)\n",
        "#bitcoin_data_new"
      ]
    },
    {
      "cell_type": "code",
      "execution_count": null,
      "id": "4e563979-458e-4860-afc1-c8eedcd9abb5",
      "metadata": {
        "id": "4e563979-458e-4860-afc1-c8eedcd9abb5"
      },
      "outputs": [],
      "source": [
        "#ETH_train_split_new = 600\n",
        "#eth_data_new = normalizer(eth_data_new, ETH_train_split_new)\n",
        "#eth_data_new"
      ]
    },
    {
      "cell_type": "code",
      "execution_count": null,
      "id": "a14d6c60-4de4-4d41-a654-dbba58b9856e",
      "metadata": {
        "id": "a14d6c60-4de4-4d41-a654-dbba58b9856e"
      },
      "outputs": [],
      "source": [
        "TRAIN_SPLIT = 800"
      ]
    },
    {
      "cell_type": "markdown",
      "id": "089b9d1a-b29c-40ce-b646-36157f0ed7a5",
      "metadata": {
        "id": "089b9d1a-b29c-40ce-b646-36157f0ed7a5"
      },
      "source": [
        "# Model 1 Прогнозирование на основе одномерного временного ряда"
      ]
    },
    {
      "cell_type": "code",
      "execution_count": null,
      "id": "3daf1178-1320-4758-b95f-9fa1a1e96fa1",
      "metadata": {
        "id": "3daf1178-1320-4758-b95f-9fa1a1e96fa1"
      },
      "outputs": [],
      "source": [
        "def univariate_data(dataset, start_index, end_index, history_size, target_size):\n",
        "  data = []\n",
        "  labels = []\n",
        "\n",
        "  start_index = start_index + history_size\n",
        "  if end_index is None:\n",
        "    end_index = len(dataset) - target_size\n",
        "\n",
        "  for i in range(start_index, end_index):\n",
        "    indices = range(i-history_size, i)\n",
        "    # Reshape data from (history_size,) to (history_size, 1)\n",
        "    data.append(np.reshape(dataset[indices], (history_size, 1)))\n",
        "    labels.append(dataset[i+target_size])\n",
        "  return np.array(data), np.array(labels)"
      ]
    },
    {
      "cell_type": "code",
      "execution_count": null,
      "id": "0c5cd668-7023-4967-a2a3-6f67e3a02c9a",
      "metadata": {
        "id": "0c5cd668-7023-4967-a2a3-6f67e3a02c9a"
      },
      "outputs": [],
      "source": [
        "def create_time_steps(length):\n",
        "  return list(range(-length, 0))"
      ]
    },
    {
      "cell_type": "code",
      "execution_count": null,
      "id": "61c7c1dc-a63c-4eeb-aa6c-636e9b674b1b",
      "metadata": {
        "id": "61c7c1dc-a63c-4eeb-aa6c-636e9b674b1b"
      },
      "outputs": [],
      "source": [
        "def show_plot(plot_data, delta, title, ax_n=False,  graph_count=1):\n",
        "  labels = ['History', 'True Future', 'Model Prediction']\n",
        "  marker = ['.-', 'rx', 'go']\n",
        "  time_steps = create_time_steps(plot_data[0].shape[0])\n",
        "  if delta:\n",
        "    future = delta\n",
        "  else:\n",
        "    future = 0\n",
        "  if ax_n:\n",
        "      plt.subplot(graph_count, 1, ax_n)\n",
        "  plt.title(title)\n",
        "  for i, x in enumerate(plot_data):\n",
        "    if i:\n",
        "      plt.plot(future, plot_data[i], marker[i], markersize=10, label=labels[i])\n",
        "    else:\n",
        "      plt.plot(time_steps, plot_data[i].flatten(), marker[i], label=labels[i])\n",
        "  plt.legend()\n",
        "  plt.xlim([time_steps[0], (future+5)*2])\n",
        "  plt.xlabel('Time-Step')\n",
        "  return plt"
      ]
    },
    {
      "cell_type": "code",
      "execution_count": null,
      "id": "8dc39744-5cb1-4c21-91aa-393e639c0ed2",
      "metadata": {
        "id": "8dc39744-5cb1-4c21-91aa-393e639c0ed2"
      },
      "outputs": [],
      "source": [
        "def baseline(history):\n",
        "  return np.mean(history)"
      ]
    },
    {
      "cell_type": "code",
      "execution_count": null,
      "id": "0c59b942-0918-40b0-90d7-52233e9bd428",
      "metadata": {
        "id": "0c59b942-0918-40b0-90d7-52233e9bd428"
      },
      "outputs": [],
      "source": [
        "def plot_train_history(history, title, ax_n=False, graph_count=1):\n",
        "  loss = history.history['loss']\n",
        "  val_loss = history.history['val_loss']\n",
        "  epochs = range(len(loss))\n",
        "  if ax_n:\n",
        "      plt.subplot(graph_count, 1, ax_n)\n",
        "  else:\n",
        "      plt.figure()\n",
        "  plt.plot(epochs, loss, 'b', label='Training loss')\n",
        "  plt.plot(epochs, val_loss, 'r', label='Validation loss')\n",
        "  plt.title(title)\n",
        "  plt.legend()\n",
        "  return plt"
      ]
    },
    {
      "cell_type": "code",
      "execution_count": null,
      "id": "c67908b7-9ef4-42cb-88aa-d2d24b9f09ac",
      "metadata": {
        "id": "c67908b7-9ef4-42cb-88aa-d2d24b9f09ac"
      },
      "outputs": [],
      "source": [
        "def use_first_model(some_data_clean, TRAIN_SPLIT):\n",
        "    fig, axs = plt.subplots(6, 1, figsize=(15, 48))\n",
        "\n",
        "    uni_data = some_data_clean['close']\n",
        "    uni_data.index = some_data_clean['newsDatetime']\n",
        "    uni_data = uni_data.values\n",
        "\n",
        "    uni_train_mean = uni_data[:TRAIN_SPLIT].mean()\n",
        "    uni_train_std = uni_data[:TRAIN_SPLIT].std()\n",
        "\n",
        "    uni_data = (uni_data-uni_train_mean)/uni_train_std\n",
        "\n",
        "\n",
        "    univariate_past_history = 20\n",
        "    univariate_future_target = 0\n",
        "\n",
        "    x_train_uni, y_train_uni = univariate_data(uni_data, 0, TRAIN_SPLIT,\n",
        "                                               univariate_past_history,\n",
        "                                               univariate_future_target)\n",
        "    x_val_uni, y_val_uni = univariate_data(uni_data, TRAIN_SPLIT, None,\n",
        "                                           univariate_past_history,\n",
        "                                           univariate_future_target)\n",
        "\n",
        "    show_plot([x_train_uni[0], y_train_uni[0]], 0, 'Sample Example', ax_n=1, graph_count=6)\n",
        "\n",
        "    show_plot([x_train_uni[0], y_train_uni[0], baseline(x_train_uni[0])], 0,'Baseline Prediction Example', ax_n=2, graph_count=6)\n",
        "\n",
        "    BATCH_SIZE = 64\n",
        "    BUFFER_SIZE = 10000\n",
        "\n",
        "    train_univariate = tf.data.Dataset.from_tensor_slices((x_train_uni, y_train_uni))\n",
        "    train_univariate = train_univariate.cache().shuffle(BUFFER_SIZE).batch(BATCH_SIZE).repeat()\n",
        "\n",
        "    val_univariate = tf.data.Dataset.from_tensor_slices((x_val_uni, y_val_uni))\n",
        "    val_univariate = val_univariate.batch(BATCH_SIZE).repeat()\n",
        "\n",
        "\n",
        "    simple_lstm_model = tf.keras.models.Sequential([\n",
        "    tf.keras.layers.LSTM(8, input_shape=x_train_uni.shape[-2:]),\n",
        "    tf.keras.layers.Dense(1)\n",
        "    ])\n",
        "\n",
        "    simple_lstm_model.compile(optimizer='adam', loss='mae')\n",
        "\n",
        "    #Проверим выход модели.\n",
        "    # for x, y in val_univariate.take(1):\n",
        "    #     print(simple_lstm_model.predict(x).shape)\n",
        "\n",
        "    EVALUATION_INTERVAL = 200\n",
        "    EPOCHS = 30\n",
        "\n",
        "    single_step_history = simple_lstm_model.fit(train_univariate, epochs=EPOCHS,\n",
        "                          steps_per_epoch=EVALUATION_INTERVAL,\n",
        "                          validation_data=val_univariate, validation_steps=50)\n",
        "    plot_train_history(single_step_history, 'Single Step Training and validation loss', ax_n=3,  graph_count=6)\n",
        "    subplot_ind = 4\n",
        "    for x, y in val_univariate.take(3):\n",
        "        plot = show_plot([x[0].numpy(), y[0].numpy(),\n",
        "                    simple_lstm_model.predict(x)[0]], 0, 'Simple LSTM model', ax_n=subplot_ind, graph_count=6)\n",
        "        subplot_ind += 1\n",
        "    plot.show()"
      ]
    },
    {
      "cell_type": "code",
      "execution_count": null,
      "id": "4c96f8c3-933d-4cf3-8bee-49aaf9fd968f",
      "metadata": {
        "id": "4c96f8c3-933d-4cf3-8bee-49aaf9fd968f"
      },
      "outputs": [],
      "source": [
        "use_first_model(bitcoin_data_clean, BITCOIN_train_split)"
      ]
    },
    {
      "cell_type": "code",
      "execution_count": null,
      "id": "26e5d450-4b3a-46e1-b665-39e084b1f938",
      "metadata": {
        "id": "26e5d450-4b3a-46e1-b665-39e084b1f938"
      },
      "outputs": [],
      "source": [
        "use_first_model(eth_data_clean, ETH_train_split)"
      ]
    },
    {
      "cell_type": "code",
      "execution_count": null,
      "id": "14e0d79e-2423-47c2-9776-f1fc895d09c7",
      "metadata": {
        "id": "14e0d79e-2423-47c2-9776-f1fc895d09c7"
      },
      "outputs": [],
      "source": [
        "use_first_model(sol_data_clean, SOL_train_split)"
      ]
    },
    {
      "cell_type": "code",
      "execution_count": null,
      "id": "f89ba448-fff0-4386-bbd4-87596ec103f4",
      "metadata": {
        "id": "f89ba448-fff0-4386-bbd4-87596ec103f4"
      },
      "outputs": [],
      "source": [
        "use_first_model(doge_data_clean, DOGE_train_split)"
      ]
    },
    {
      "cell_type": "code",
      "execution_count": null,
      "id": "6073076d-36ee-46c2-86f0-9ff81bcacd33",
      "metadata": {
        "id": "6073076d-36ee-46c2-86f0-9ff81bcacd33"
      },
      "outputs": [],
      "source": [
        "use_first_model(ripp_data_clean, RIPP_train_split)"
      ]
    },
    {
      "cell_type": "code",
      "execution_count": null,
      "id": "c2530384-3701-4164-b7d7-fb72d45148ef",
      "metadata": {
        "id": "c2530384-3701-4164-b7d7-fb72d45148ef"
      },
      "outputs": [],
      "source": [
        "use_first_model(card_data_clean, CARD_train_split)"
      ]
    },
    {
      "cell_type": "markdown",
      "id": "6e30ddf0-e920-4eaa-8829-d7e1674fe2fc",
      "metadata": {
        "id": "6e30ddf0-e920-4eaa-8829-d7e1674fe2fc"
      },
      "source": [
        "# Model 2"
      ]
    },
    {
      "cell_type": "code",
      "execution_count": null,
      "id": "f9baf11f-0a63-4efa-a0c1-e9897f20fe05",
      "metadata": {
        "id": "f9baf11f-0a63-4efa-a0c1-e9897f20fe05"
      },
      "outputs": [],
      "source": [
        "def use_second_model(some_data_clean, TRAIN_SPLIT):\n",
        "\n",
        "    fig, axs = plt.subplots(4, 1, figsize=(15, 32))\n",
        "\n",
        "    uni_data = some_data_clean['close']\n",
        "    uni_data.index = some_data_clean['newsDatetime']\n",
        "    uni_data = uni_data.values\n",
        "\n",
        "    uni_train_mean = uni_data[:TRAIN_SPLIT].mean()\n",
        "    uni_train_std = uni_data[:TRAIN_SPLIT].std()\n",
        "\n",
        "    uni_data = (uni_data-uni_train_mean)/uni_train_std\n",
        "    BATCH_SIZE = 64\n",
        "    BUFFER_SIZE = 1000\n",
        "\n",
        "    univariate_past_history = 20\n",
        "    univariate_future_target = 0\n",
        "\n",
        "    x_train_uni, y_train_uni = univariate_data(uni_data, 0, TRAIN_SPLIT,\n",
        "                                               univariate_past_history,\n",
        "                                               univariate_future_target)\n",
        "    x_val_uni, y_val_uni = univariate_data(uni_data, TRAIN_SPLIT, None,\n",
        "                                           univariate_past_history,\n",
        "                                           univariate_future_target)\n",
        "    train_univariate = tf.data.Dataset.from_tensor_slices((x_train_uni, y_train_uni))\n",
        "    train_univariate = train_univariate.cache().shuffle(BUFFER_SIZE).batch(BATCH_SIZE).repeat()\n",
        "\n",
        "    val_univariate = tf.data.Dataset.from_tensor_slices((x_val_uni, y_val_uni))\n",
        "    val_univariate = val_univariate.batch(BATCH_SIZE).repeat()\n",
        "\n",
        "    simple_lstm_model = tf.keras.models.Sequential([\n",
        "    tf.keras.layers.LSTM(16, return_sequences=True, input_shape=x_train_uni.shape[-2:]),\n",
        "    tf.keras.layers.LSTM(16, return_sequences=False),\n",
        "    tf.keras.layers.Dense(10),\n",
        "    tf.keras.layers.Dense(1)\n",
        "    ])\n",
        "\n",
        "    #simple_lstm_model.compile(optimizer=tf.keras.optimizers.legacy.RMSprop(clipvalue=1.0), loss='mae')\n",
        "    simple_lstm_model.compile(optimizer=tf.keras.optimizers.RMSprop(clipvalue=1.0), loss='mae')\n",
        "\n",
        "    EVALUATION_INTERVAL = 200\n",
        "    EPOCHS = 30\n",
        "\n",
        "    single_step_history = simple_lstm_model.fit(train_univariate, epochs=EPOCHS,\n",
        "                          steps_per_epoch=EVALUATION_INTERVAL,\n",
        "                          validation_data=val_univariate, validation_steps=50)\n",
        "    plot_train_history(single_step_history, 'Single Step Training and validation loss', ax_n=1, graph_count=4)\n",
        "\n",
        "    subplot_ind = 2\n",
        "    for x, y in val_univariate.take(3):\n",
        "      plot = show_plot([x[0].numpy(), y[0].numpy(),\n",
        "                        simple_lstm_model.predict(x)[0]], 0, 'Simple LSTM model', ax_n=subplot_ind, graph_count=4)\n",
        "      subplot_ind += 1\n",
        "    plot.show()"
      ]
    },
    {
      "cell_type": "code",
      "execution_count": null,
      "id": "415096af-548f-4010-b50d-31b78b926a6c",
      "metadata": {
        "id": "415096af-548f-4010-b50d-31b78b926a6c"
      },
      "outputs": [],
      "source": [
        "use_second_model(bitcoin_data_clean, BITCOIN_train_split)"
      ]
    },
    {
      "cell_type": "code",
      "execution_count": null,
      "id": "b7314574-9693-47f6-b66f-9e931b1d9e29",
      "metadata": {
        "id": "b7314574-9693-47f6-b66f-9e931b1d9e29"
      },
      "outputs": [],
      "source": [
        "use_second_model(eth_data_clean, ETH_train_split)"
      ]
    },
    {
      "cell_type": "code",
      "execution_count": null,
      "id": "783d1d6b-53dd-483b-9c10-53cdf24110a0",
      "metadata": {
        "id": "783d1d6b-53dd-483b-9c10-53cdf24110a0"
      },
      "outputs": [],
      "source": [
        "use_second_model(sol_data_clean, SOL_train_split)"
      ]
    },
    {
      "cell_type": "code",
      "execution_count": null,
      "id": "2185e4d7-a181-4c9b-8e45-cfddd4331511",
      "metadata": {
        "id": "2185e4d7-a181-4c9b-8e45-cfddd4331511"
      },
      "outputs": [],
      "source": [
        "use_second_model(ripp_data_clean, RIPP_train_split)"
      ]
    },
    {
      "cell_type": "code",
      "execution_count": null,
      "id": "d463d9d0-057f-4623-a3d4-e7f9c7715ac0",
      "metadata": {
        "id": "d463d9d0-057f-4623-a3d4-e7f9c7715ac0"
      },
      "outputs": [],
      "source": [
        "use_second_model(doge_data_clean, DOGE_train_split)"
      ]
    },
    {
      "cell_type": "code",
      "execution_count": null,
      "id": "d8ffba52-7c17-4662-be4f-300831ffd143",
      "metadata": {
        "id": "d8ffba52-7c17-4662-be4f-300831ffd143"
      },
      "outputs": [],
      "source": [
        "use_second_model(card_data_clean, CARD_train_split)"
      ]
    },
    {
      "cell_type": "code",
      "execution_count": null,
      "id": "dPqo9Zau2BkK",
      "metadata": {
        "id": "dPqo9Zau2BkK"
      },
      "outputs": [],
      "source": []
    },
    {
      "cell_type": "code",
      "execution_count": null,
      "id": "lgj5G0i22EuA",
      "metadata": {
        "id": "lgj5G0i22EuA"
      },
      "outputs": [],
      "source": []
    },
    {
      "cell_type": "code",
      "execution_count": null,
      "id": "SPsZgB8_2FKK",
      "metadata": {
        "id": "SPsZgB8_2FKK"
      },
      "outputs": [],
      "source": []
    },
    {
      "cell_type": "markdown",
      "id": "7c4193a1-607b-4b53-8363-af036b9a2683",
      "metadata": {
        "id": "7c4193a1-607b-4b53-8363-af036b9a2683"
      },
      "source": [
        "# Model 3 Прогнозирование на основе многомерного временного ряда"
      ]
    },
    {
      "cell_type": "code",
      "execution_count": null,
      "id": "63158fdf-d60e-4223-ac8d-0ba320a58903",
      "metadata": {
        "id": "63158fdf-d60e-4223-ac8d-0ba320a58903"
      },
      "outputs": [],
      "source": [
        "price_features_considered = ['close', 'macd', 'moving_average_short', 'moving_average_long',\n",
        "       'bollinger_upper', 'bollinger_lower', 'stoch_k', 'stoch_d', 'atr', 'adx', 'williams_r', 'cci']\n",
        "news_features_considered = ['negative', 'positive', 'important', 'liked', 'disliked', 'comments', 'diff']\n",
        "\n"
      ]
    },
    {
      "cell_type": "code",
      "execution_count": null,
      "id": "1346d002-fd10-42f6-9f8a-794a09231081",
      "metadata": {
        "id": "1346d002-fd10-42f6-9f8a-794a09231081"
      },
      "outputs": [],
      "source": [
        "bitcoin_data_clean[price_features_considered[:4]]"
      ]
    },
    {
      "cell_type": "code",
      "execution_count": null,
      "id": "a8ddfa26-2866-496c-9abb-1d0f5a47e712",
      "metadata": {
        "id": "a8ddfa26-2866-496c-9abb-1d0f5a47e712"
      },
      "outputs": [],
      "source": [
        "def multivariate_data(dataset, target, start_index, end_index, history_size,\n",
        "                      target_size, step, single_step=False):\n",
        "  data = []\n",
        "  labels = []\n",
        "\n",
        "  start_index = start_index + history_size\n",
        "  if end_index is None:\n",
        "    end_index = len(dataset) - target_size\n",
        "\n",
        "  for i in range(start_index, end_index):\n",
        "    indices = range(i-history_size, i, step)\n",
        "    data.append(dataset[indices])\n",
        "\n",
        "    if single_step:\n",
        "      labels.append(target[i+target_size])\n",
        "    else:\n",
        "      labels.append(target[i:i+target_size])\n",
        "\n",
        "  return np.array(data), np.array(labels)\n",
        "\n",
        "\n",
        "def use_third_model(some_data_clean, TRAIN_SPLIT, features_considered):\n",
        "    fig, axs = plt.subplots(4, 1, figsize=(15, 32))\n",
        "\n",
        "    features = some_data_clean[features_considered]\n",
        "    features.index = some_data_clean['newsDatetime']\n",
        "\n",
        "    dataset = features.values\n",
        "    data_mean = dataset[:TRAIN_SPLIT].mean(axis=0)\n",
        "    data_std = dataset[:TRAIN_SPLIT].std(axis=0)\n",
        "\n",
        "    dataset = (dataset-data_mean)/data_std\n",
        "    dataset0 = features.values\n",
        "    data_mean = dataset0[:TRAIN_SPLIT].mean(axis=0)\n",
        "    data_std = dataset0[:TRAIN_SPLIT].std(axis=0)\n",
        "\n",
        "    dataset = (dataset0-data_mean)/data_std\n",
        "\n",
        "    dataset2 = dataset * data_std + data_mean\n",
        "\n",
        "    EVALUATION_INTERVAL = 200\n",
        "    EPOCHS = 30\n",
        "    BATCH_SIZE = 64\n",
        "    BUFFER_SIZE = 1000\n",
        "    past_history = 30\n",
        "    future_target = 1\n",
        "    STEP = 1\n",
        "\n",
        "    x_train_single, y_train_single = multivariate_data(dataset, dataset[:, 1], 0,\n",
        "                                                   TRAIN_SPLIT, past_history,\n",
        "                                                   future_target, STEP,\n",
        "                                                   single_step=True)\n",
        "    x_val_single, y_val_single = multivariate_data(dataset, dataset[:, 1],\n",
        "                                               TRAIN_SPLIT, None, past_history,\n",
        "                                               future_target, STEP,\n",
        "                                               single_step=True)\n",
        "\n",
        "    print ('Single window of past history')\n",
        "    print (x_train_single[0])\n",
        "    print ('\\n Target to predict')\n",
        "    print (y_train_single[0])\n",
        "\n",
        "\n",
        "    train_data_single = tf.data.Dataset.from_tensor_slices((x_train_single, y_train_single))\n",
        "    train_data_single = train_data_single.cache().shuffle(BUFFER_SIZE).batch(BATCH_SIZE).repeat()\n",
        "\n",
        "    val_data_single = tf.data.Dataset.from_tensor_slices((x_val_single, y_val_single))\n",
        "    val_data_single = val_data_single.batch(BATCH_SIZE).repeat()\n",
        "\n",
        "    single_step_model = tf.keras.models.Sequential()\n",
        "    single_step_model.add(tf.keras.layers.LSTM(50, return_sequences=True, input_shape=x_train_single.shape[-2:]))\n",
        "    single_step_model.add(tf.keras.layers.LSTM(50, return_sequences=False))  #, activation='relu'\n",
        "    single_step_model.add(tf.keras.layers.Dense(25))\n",
        "    single_step_model.add(tf.keras.layers.Dense(1))\n",
        "\n",
        "    #single_step_model.compile(optimizer=tf.keras.optimizers.RMSprop(), loss='mae')\n",
        "    single_step_model.compile(optimizer=tf.keras.optimizers.Adamax(learning_rate=0.0001,\n",
        "        beta_1=0.9,\n",
        "        beta_2=0.999,\n",
        "        epsilon=1e-07,\n",
        "        clipnorm=None,\n",
        "        clipvalue=None,\n",
        "        global_clipnorm=None,\n",
        "        name='adamax'), loss='mae')\n",
        "\n",
        "    #Проверим нашу выборку и выведем кривые потерь на этапах обучения и проверки.\n",
        "\n",
        "    # Раннее завершение обучения\n",
        "    early_stopping = EarlyStopping(monitor='val_loss', patience=10, restore_best_weights=True)\n",
        "\n",
        "\n",
        "    single_step_history = single_step_model.fit(train_data_single, epochs=EPOCHS,\n",
        "                                                steps_per_epoch=EVALUATION_INTERVAL,\n",
        "                                                validation_data=val_data_single,\n",
        "                                                validation_steps=50,\n",
        "                                               callbacks=[early_stopping])\n",
        "\n",
        "\n",
        "    plot_train_history(single_step_history, 'Single Step Training and validation loss', ax_n=1, graph_count=4)\n",
        "\n",
        "\n",
        "    subplot_ind = 2\n",
        "    for x, y in val_data_single.take(3):\n",
        "        plot = show_plot([x[0][:, 1].numpy(), y[0].numpy(),\n",
        "                        single_step_model.predict(x)[0]], 0,\n",
        "                       'Single Step Prediction', ax_n=subplot_ind, graph_count=4)\n",
        "        subplot_ind += 1\n",
        "        plot.show()"
      ]
    },
    {
      "cell_type": "code",
      "execution_count": null,
      "id": "b9bd16cd-ded5-4d6b-9529-4fe795e2b3ea",
      "metadata": {
        "id": "b9bd16cd-ded5-4d6b-9529-4fe795e2b3ea"
      },
      "outputs": [],
      "source": [
        "use_third_model(bitcoin_data_clean, BITCOIN_train_split, ['close','macd','moving_average_short', 'stoch_k', 'atr'])"
      ]
    },
    {
      "cell_type": "code",
      "execution_count": null,
      "id": "f032dae3-3bbe-4e5d-988d-7ac400c478c2",
      "metadata": {
        "id": "f032dae3-3bbe-4e5d-988d-7ac400c478c2"
      },
      "outputs": [],
      "source": [
        "use_third_model(eth_data_clean, ETH_train_split,  ['close','macd','moving_average_short', 'atr'])"
      ]
    },
    {
      "cell_type": "code",
      "execution_count": null,
      "id": "c51ddb8c-2999-4ad6-9881-ed6f9b4406ca",
      "metadata": {
        "id": "c51ddb8c-2999-4ad6-9881-ed6f9b4406ca"
      },
      "outputs": [],
      "source": [
        "use_third_model(sol_data_clean, SOL_train_split, price_features_considered[:4])"
      ]
    },
    {
      "cell_type": "code",
      "execution_count": null,
      "id": "8db291b1-95d9-4a73-9a65-f169bee1c741",
      "metadata": {
        "id": "8db291b1-95d9-4a73-9a65-f169bee1c741"
      },
      "outputs": [],
      "source": [
        "use_third_model(ripp_data_clean, RIPP_train_split, price_features_considered[:4])"
      ]
    },
    {
      "cell_type": "code",
      "execution_count": null,
      "id": "719da498-5713-4e56-ad86-0a26281c03c7",
      "metadata": {
        "id": "719da498-5713-4e56-ad86-0a26281c03c7"
      },
      "outputs": [],
      "source": [
        "use_third_model(doge_data_clean, DOGE_train_split, ['close','macd','moving_average_short', 'stoch_k', 'atr'])"
      ]
    },
    {
      "cell_type": "code",
      "execution_count": null,
      "id": "4a669c54-d6fd-46f8-9458-5d3cd7465e58",
      "metadata": {
        "id": "4a669c54-d6fd-46f8-9458-5d3cd7465e58"
      },
      "outputs": [],
      "source": [
        "use_third_model(card_data_clean, CARD_train_split, price_features_considered[:4])"
      ]
    },
    {
      "cell_type": "markdown",
      "id": "93f93de1-5ca5-4420-ba14-9b2e8bb71794",
      "metadata": {
        "id": "93f93de1-5ca5-4420-ba14-9b2e8bb71794"
      },
      "source": [
        "# Model ARIMA"
      ]
    },
    {
      "cell_type": "code",
      "execution_count": null,
      "id": "F0sLRVe2Z5_n",
      "metadata": {
        "id": "F0sLRVe2Z5_n"
      },
      "outputs": [],
      "source": [
        "!pip install numpy==1.26.4 pandas==2.2.2 --quiet\n"
      ]
    },
    {
      "cell_type": "code",
      "source": [
        "import os\n",
        "\n",
        "# INstalacion de la correcta version de numpy para funcionar con pmdarima\n",
        "!pip install numpy==1.26.4 --quiet\n",
        "\n",
        "# Reiniciamos la sesion de google colab\n",
        "os.kill(os.getpid(), 9)"
      ],
      "metadata": {
        "id": "vMTBRHTHMuRL"
      },
      "id": "vMTBRHTHMuRL",
      "execution_count": null,
      "outputs": []
    },
    {
      "cell_type": "code",
      "execution_count": null,
      "id": "T3KuHfvM1UN1",
      "metadata": {
        "id": "T3KuHfvM1UN1"
      },
      "outputs": [],
      "source": [
        "from pmdarima.arima import auto_arima\n",
        "from sklearn.metrics import mean_absolute_percentage_error"
      ]
    },
    {
      "cell_type": "code",
      "execution_count": null,
      "id": "3a1b777e-4c57-4cac-afd3-246ec1571744",
      "metadata": {
        "id": "3a1b777e-4c57-4cac-afd3-246ec1571744"
      },
      "outputs": [],
      "source": [
        "def divides_into_samples(df):\n",
        "    \"\"\"Делит данные на обучающую, валидационную и тестовую выборки.\n",
        "    \"\"\"\n",
        "    # 1. Определим признаки (X) и целевую переменную (y)\n",
        "    X = df.drop('close', axis=1)\n",
        "    y = df['close']\n",
        "\n",
        "    # 2. Разделим данные на обучающую и тестовую выборки (80% обучающих, 20% тестовых)\n",
        "    X_train, X_test, y_train, y_test = train_test_split(X, y, test_size=0.2, random_state=42)\n",
        "\n",
        "    # 3. Разделим тестовую выборку на валидационную и тестовую (50% валидационных, 50% тестовых)\n",
        "    X_val, X_test, y_val, y_test = train_test_split(X_test, y_test, test_size=0.5, random_state=42)\n",
        "\n",
        "    return X_train, X_test, X_val, y_train, y_test, y_val\n",
        "\n",
        "def divides_into_samples_2(df):\n",
        "\n",
        "    X = df.drop('close', axis=1)\n",
        "    y = df['close']\n",
        "\n",
        "    n = len(X)\n",
        "    X_train, X_test, X_val = X.iloc[0:int(n*0.7), :], X.iloc[int(n*0.7):int(n*0.9),:], X.iloc[int(n*0.9):, :]\n",
        "    y_train, y_test, y_val = y[0:int(n*0.7)], y[int(n*0.7):int(n*0.9)], y[int(n*0.9):]\n",
        "\n",
        "\n",
        "    return X_train, X_test, X_val, y_train, y_test, y_val"
      ]
    },
    {
      "cell_type": "code",
      "execution_count": null,
      "id": "AtoOx4v3070h",
      "metadata": {
        "id": "AtoOx4v3070h"
      },
      "outputs": [],
      "source": [
        "def ARIMA_testing(df):\n",
        "\n",
        "    X_train, X_test, X_val, y_train, y_test, y_val = divides_into_samples_2(df)\n",
        "\n",
        "    # Поиск лучшей модели\n",
        "    best_model = auto_arima(y_train, start_p=0, start_q=0, max_p=7, max_q=7, m=12, seasonal=False, stepwise=True, trace=True)\n",
        "\n",
        "    # Извлечение параметров p, d и q\n",
        "    p = best_model.order[0]\n",
        "    d = best_model.order[1]\n",
        "    q = best_model.order[2]\n",
        "\n",
        "    model = sm.tsa.ARIMA(y_train, order=(p, d, q))\n",
        "    model_fit = model.fit()\n",
        "\n",
        "    # Предсказание на валидационной выборке\n",
        "    y_pred_test = model_fit.predict(start=len(y_train), end=len(y_train) + len(y_test) - 1)\n",
        "\n",
        "    # Оценка точности на валидационной выборке\n",
        "    mape_val = mean_absolute_percentage_error(y_test, y_pred_test)\n",
        "    print(f\"MAPE на валидационной выборке: {mape_val}\")\n",
        "    return y_pred_test, y_test, X_test\n",
        "\n",
        "def make_arima_pred(some_sata):\n",
        "    y_pred_test, y_test, X_test = ARIMA_testing(some_sata)\n",
        "\n",
        "    X_test['close'] = list(y_test)\n",
        "    X_test['pred'] = list(y_pred_test)\n",
        "\n",
        "    fig = go.Figure()\n",
        "    fig.add_trace(go.Scatter(x=X_test['newsDatetime'], y=X_test['close'], mode='lines', name='val'))\n",
        "    fig.add_trace(go.Scatter(x=X_test['newsDatetime'], y=X_test['pred'], mode='lines', name='pred'))\n",
        "    fig.update_layout(title='Визуализация индикатора', xaxis_title='Дата', yaxis_title='Значение')\n",
        "    fig.show()"
      ]
    },
    {
      "cell_type": "code",
      "execution_count": null,
      "id": "J0QRBnab8Yp_",
      "metadata": {
        "id": "J0QRBnab8Yp_"
      },
      "outputs": [],
      "source": [
        "make_arima_pred(bitcoin_data_clean)"
      ]
    },
    {
      "cell_type": "code",
      "execution_count": null,
      "id": "Rrtbc-sI5bE6",
      "metadata": {
        "id": "Rrtbc-sI5bE6"
      },
      "outputs": [],
      "source": [
        "make_arima_pred(eth_data_clean)"
      ]
    },
    {
      "cell_type": "code",
      "execution_count": null,
      "id": "WCsADbGo078s",
      "metadata": {
        "id": "WCsADbGo078s"
      },
      "outputs": [],
      "source": [
        "make_arima_pred(sol_data_clean)"
      ]
    },
    {
      "cell_type": "code",
      "execution_count": null,
      "id": "Fu2F_bZ80761",
      "metadata": {
        "id": "Fu2F_bZ80761"
      },
      "outputs": [],
      "source": [
        "make_arima_pred(ripp_data_clean)"
      ]
    },
    {
      "cell_type": "code",
      "execution_count": null,
      "id": "DyjvXEeO074d",
      "metadata": {
        "id": "DyjvXEeO074d"
      },
      "outputs": [],
      "source": [
        "make_arima_pred(card_data_clean)"
      ]
    },
    {
      "cell_type": "code",
      "execution_count": null,
      "id": "V-MG8PObC2mj",
      "metadata": {
        "id": "V-MG8PObC2mj"
      },
      "outputs": [],
      "source": [
        "make_arima_pred(doge_data_clean)"
      ]
    },
    {
      "cell_type": "markdown",
      "id": "JzJCq-Z5Yv3m",
      "metadata": {
        "id": "JzJCq-Z5Yv3m"
      },
      "source": [
        "# SARIMA"
      ]
    },
    {
      "cell_type": "code",
      "execution_count": null,
      "id": "mtKxyoAUYuvF",
      "metadata": {
        "id": "mtKxyoAUYuvF"
      },
      "outputs": [],
      "source": [
        "def SARIMA_testing(df):\n",
        "    y_pred_val = []\n",
        "\n",
        "    X_train, X_test, X_val, y_train, y_test, y_val = divides_into_samples_2(df)\n",
        "\n",
        "    # Указываем период сезонности\n",
        "    seasonal_period = 12\n",
        "\n",
        "    # Ищем лучшую модель SARIMA\n",
        "    sarima_model = auto_arima(\n",
        "      y_train,\n",
        "      start_p=0, start_q=0, start_P=0, start_Q=0,\n",
        "      max_p=7, max_q=7, max_P=3, max_Q=3,\n",
        "      m=seasonal_period,\n",
        "      seasonal=True,\n",
        "      stepwise=True,\n",
        "      trace=True\n",
        "    )\n",
        "\n",
        "    # Получаем подобранные параметры\n",
        "    order = sarima_model.order\n",
        "    seasonal_order = sarima_model.seasonal_order\n",
        "\n",
        "    # Обучение модели SARIMA\n",
        "    try:\n",
        "        model = sm.tsa.statespace.SARIMAX(y_train, order=order, seasonal_order=seasonal_order)\n",
        "        model_fit = model.fit(disp=False) # disp=False подавляет вывод процесса оптимизации\n",
        "\n",
        "        # Предсказание на валидационной выборке\n",
        "        y_pred_val = model_fit.predict(start=len(y_train), end=len(y_train) + len(y_val) - 1)\n",
        "\n",
        "        # Оценка точности на валидационной выборке\n",
        "        mape_val = mean_absolute_percentage_error(y_val, y_pred_val)\n",
        "        print(f\"MAPE на валидационной выборке: {mape_val}\")\n",
        "\n",
        "    except Exception as e:\n",
        "        print(f\"Ошибка при обучении модели SARIMAX: {e}\")\n",
        "    return y_pred_val, y_val, X_val"
      ]
    },
    {
      "cell_type": "code",
      "execution_count": null,
      "id": "aDYHLnUnY0Ou",
      "metadata": {
        "id": "aDYHLnUnY0Ou"
      },
      "outputs": [],
      "source": [
        "def make_sarima_pred(some_data):\n",
        "    y_pred_val, y_val, X_val = SARIMA_testing(some_data)\n",
        "\n",
        "    X_val['close'] = list(y_val)\n",
        "    X_val['pred'] = list(y_pred_val)\n",
        "\n",
        "    fig = go.Figure()\n",
        "    fig.add_trace(go.Scatter(x=X_val['newsDatetime'], y=X_val['close'], mode='lines', name='val'))\n",
        "    fig.add_trace(go.Scatter(x=X_val['newsDatetime'], y=X_val['pred'], mode='lines', name='pred'))\n",
        "    fig.update_layout(title=f'Визуализация индикатора', xaxis_title='Дата', yaxis_title='Значение')\n",
        "    fig.show()"
      ]
    },
    {
      "cell_type": "markdown",
      "id": "Dqt9O4_aeGEM",
      "metadata": {
        "id": "Dqt9O4_aeGEM"
      },
      "source": []
    },
    {
      "cell_type": "code",
      "execution_count": null,
      "id": "GyRtsjfQcOXo",
      "metadata": {
        "id": "GyRtsjfQcOXo"
      },
      "outputs": [],
      "source": [
        "make_sarima_pred(eth_data_clean)"
      ]
    },
    {
      "cell_type": "code",
      "execution_count": null,
      "id": "MuHLHKkddJz7",
      "metadata": {
        "id": "MuHLHKkddJz7"
      },
      "outputs": [],
      "source": [
        "make_sarima_pred(bitcoin_data_clean)"
      ]
    },
    {
      "cell_type": "code",
      "execution_count": null,
      "id": "plJiRTfedJwL",
      "metadata": {
        "id": "plJiRTfedJwL"
      },
      "outputs": [],
      "source": [
        "make_sarima_pred(sol_data_clean)"
      ]
    },
    {
      "cell_type": "code",
      "execution_count": null,
      "id": "pe3wuaJHdJt2",
      "metadata": {
        "id": "pe3wuaJHdJt2"
      },
      "outputs": [],
      "source": [
        "make_sarima_pred(doge_data_clean)"
      ]
    },
    {
      "cell_type": "code",
      "execution_count": null,
      "id": "jAX8QpeEdJrl",
      "metadata": {
        "id": "jAX8QpeEdJrl"
      },
      "outputs": [],
      "source": [
        "make_sarima_pred(ripp_data_clean)"
      ]
    },
    {
      "cell_type": "code",
      "execution_count": null,
      "id": "L7Zeig7EdJpU",
      "metadata": {
        "id": "L7Zeig7EdJpU"
      },
      "outputs": [],
      "source": [
        "make_sarima_pred(card_data_clean)"
      ]
    },
    {
      "cell_type": "markdown",
      "id": "a03f4490-d83c-4b69-a09e-4e2267373580",
      "metadata": {
        "id": "a03f4490-d83c-4b69-a09e-4e2267373580"
      },
      "source": [
        "# Сравнение двух временных рядов"
      ]
    },
    {
      "cell_type": "code",
      "execution_count": null,
      "id": "e5b0c8de-2108-487a-90a6-6383718ff856",
      "metadata": {
        "id": "e5b0c8de-2108-487a-90a6-6383718ff856"
      },
      "outputs": [],
      "source": [
        "## корреляционнная матрица\n",
        "def draw_corr_matr(some_data):\n",
        "    corr_matr = some_data[['diff', 'negative', 'positive', 'important', 'liked',\n",
        "       'disliked', 'comments', 'close']].corr()\n",
        "    sns.heatmap(corr_matr, annot=True, cmap='coolwarm')"
      ]
    },
    {
      "cell_type": "code",
      "execution_count": null,
      "id": "6103c9e9-9919-49e9-b1e4-acd29b6ba6d7",
      "metadata": {
        "id": "6103c9e9-9919-49e9-b1e4-acd29b6ba6d7"
      },
      "outputs": [],
      "source": [
        "draw_corr_matr(eth_data_clean)"
      ]
    },
    {
      "cell_type": "code",
      "execution_count": null,
      "id": "03d93ac8-81f5-4b6a-8fcd-f9fa1a374653",
      "metadata": {
        "id": "03d93ac8-81f5-4b6a-8fcd-f9fa1a374653"
      },
      "outputs": [],
      "source": [
        "draw_corr_matr(bitcoin_data_clean)"
      ]
    },
    {
      "cell_type": "code",
      "execution_count": null,
      "id": "5ff070f1-6e62-4553-9c01-41b82a3270ac",
      "metadata": {
        "id": "5ff070f1-6e62-4553-9c01-41b82a3270ac"
      },
      "outputs": [],
      "source": [
        "draw_corr_matr(sol_data_clean)"
      ]
    },
    {
      "cell_type": "code",
      "execution_count": null,
      "id": "743c7cc8-681e-48e4-a7b0-01df6aa54e08",
      "metadata": {
        "id": "743c7cc8-681e-48e4-a7b0-01df6aa54e08"
      },
      "outputs": [],
      "source": [
        "draw_corr_matr(doge_data_clean)"
      ]
    },
    {
      "cell_type": "code",
      "execution_count": null,
      "id": "f485202c-57a6-42cd-9e28-8f8ffe10fd82",
      "metadata": {
        "id": "f485202c-57a6-42cd-9e28-8f8ffe10fd82"
      },
      "outputs": [],
      "source": [
        "draw_corr_matr(ripp_data_clean)"
      ]
    },
    {
      "cell_type": "code",
      "execution_count": null,
      "id": "d5c995df-b337-4574-9be5-6f7fb09911cf",
      "metadata": {
        "id": "d5c995df-b337-4574-9be5-6f7fb09911cf"
      },
      "outputs": [],
      "source": [
        "draw_corr_matr(card_data_clean)"
      ]
    },
    {
      "cell_type": "code",
      "execution_count": null,
      "id": "3afa17fe-7635-4032-8016-24c7a0808a44",
      "metadata": {
        "id": "3afa17fe-7635-4032-8016-24c7a0808a44"
      },
      "outputs": [],
      "source": []
    },
    {
      "cell_type": "code",
      "execution_count": null,
      "id": "cdb93da5-7789-4e88-82dd-12cb59dd15d0",
      "metadata": {
        "id": "cdb93da5-7789-4e88-82dd-12cb59dd15d0"
      },
      "outputs": [],
      "source": [
        "# Применение теста Колмогорова-Смирнова для первого датасета\n",
        "def kolm_smirnov(some_data):\n",
        "    time = some_data['newsDatetime']\n",
        "    ## найдем соотношение цен для двух подряд идущих дней\n",
        "    series1 = some_data['close'].diff() / (some_data['close'].diff() + some_data['close'])\n",
        "    series1 = (series1 - series1.mean()) / series1.std()\n",
        "    series1.index = some_data['newsDatetime']\n",
        "\n",
        "    series2 = (some_data['diff'] - some_data['diff'].mean()) / some_data['diff'].std()\n",
        "    series2.index = some_data['newsDatetime']\n",
        "\n",
        "    #series3 = some_data2[]\n",
        "\n",
        "    ks_stat, p_value = ks_2samp(series1, series2)\n",
        "\n",
        "    # Вывод результатов\n",
        "    print(f\"Статистика теста Колмогорова-Смирнова: {ks_stat}\")\n",
        "    print(f\"p-value: {p_value}\")\n",
        "\n",
        "    # Интерпретация результатов\n",
        "    alpha = 0.05\n",
        "    if p_value < alpha:\n",
        "        print(\"Распределения двух временных рядов статистически различны.\")\n",
        "    else:\n",
        "        print(\"Невозможно отвергнуть гипотезу, что распределения двух временных рядов одинаковы.\")\n",
        "\n",
        "    # Визуализация данных для сравнения\n",
        "    plt.figure(figsize=(10, 6))\n",
        "    plt.plot(time, series1, label=\"Series 1\", linestyle='-', color='blue')\n",
        "    plt.plot(time, series2, label=\"Series 2\", linestyle='--', color='red')\n",
        "    plt.title(\"Сравнение двух временных рядов\")\n",
        "    plt.xlabel(\"Время\")\n",
        "    plt.ylabel(\"Значение\")\n",
        "    plt.legend()\n",
        "    plt.show()"
      ]
    },
    {
      "cell_type": "code",
      "execution_count": null,
      "id": "fa59d296-216f-42ce-8b07-f8d731bcad0d",
      "metadata": {
        "id": "fa59d296-216f-42ce-8b07-f8d731bcad0d"
      },
      "outputs": [],
      "source": [
        "bitcoin_data_clean"
      ]
    },
    {
      "cell_type": "code",
      "execution_count": null,
      "id": "23d6fa22-147b-480a-b70a-5febe8430c17",
      "metadata": {
        "id": "23d6fa22-147b-480a-b70a-5febe8430c17"
      },
      "outputs": [],
      "source": [
        "kolm_smirnov(bitcoin_data_clean)"
      ]
    },
    {
      "cell_type": "code",
      "execution_count": null,
      "id": "0e168f3e-0bf9-46b1-9f44-8ad5c893173f",
      "metadata": {
        "id": "0e168f3e-0bf9-46b1-9f44-8ad5c893173f"
      },
      "outputs": [],
      "source": [
        "kolm_smirnov(eth_data_clean)"
      ]
    },
    {
      "cell_type": "code",
      "execution_count": null,
      "id": "3f9cd2c8-783e-4cab-833d-8ced50688fac",
      "metadata": {
        "id": "3f9cd2c8-783e-4cab-833d-8ced50688fac"
      },
      "outputs": [],
      "source": [
        "kolm_smirnov(sol_data_clean)"
      ]
    },
    {
      "cell_type": "code",
      "execution_count": null,
      "id": "68c50c70-72f2-40f9-a41a-b306a7bcacbb",
      "metadata": {
        "id": "68c50c70-72f2-40f9-a41a-b306a7bcacbb"
      },
      "outputs": [],
      "source": [
        "kolm_smirnov(doge_data_clean)"
      ]
    },
    {
      "cell_type": "code",
      "execution_count": null,
      "id": "be1461b2-5941-47f2-a7d2-0a84d4d7d143",
      "metadata": {
        "id": "be1461b2-5941-47f2-a7d2-0a84d4d7d143"
      },
      "outputs": [],
      "source": [
        "kolm_smirnov(ripp_data_clean)"
      ]
    },
    {
      "cell_type": "code",
      "execution_count": null,
      "id": "7473c83b-496e-4cb1-b0ae-c23e3042929a",
      "metadata": {
        "id": "7473c83b-496e-4cb1-b0ae-c23e3042929a"
      },
      "outputs": [],
      "source": [
        "kolm_smirnov(card_data_clean)"
      ]
    },
    {
      "cell_type": "code",
      "execution_count": null,
      "id": "2ef8d1aa-68ee-4dd0-be26-de7abf8bee48",
      "metadata": {
        "id": "2ef8d1aa-68ee-4dd0-be26-de7abf8bee48"
      },
      "outputs": [],
      "source": [
        "bitcoin_data_new"
      ]
    },
    {
      "cell_type": "code",
      "execution_count": null,
      "id": "d6a791ae-b7ab-43fd-8dca-316e8874841b",
      "metadata": {
        "id": "d6a791ae-b7ab-43fd-8dca-316e8874841b"
      },
      "outputs": [],
      "source": [
        "# Проверка стационарности\n",
        "def check_stationarity(series):\n",
        "    result = adfuller(series.dropna())\n",
        "    p_value = result[1]\n",
        "    return p_value < 0.05\n",
        "\n",
        "## Tест Грейнджера (для второго датасета)\n",
        "def granger_test(some_data, max_lag=4):\n",
        "\n",
        "    series1 = some_data['close'].diff() / (some_data['close'].diff() + some_data['close'])\n",
        "    series1 = (series1 - series1.mean()) / series1.std()\n",
        "    series1.index = some_data['date']\n",
        "    # Проверка стационарности\n",
        "    if not check_stationarity(series1):\n",
        "        print('ряд не стационарен')\n",
        "        return\n",
        "\n",
        "\n",
        "    series2 = (some_data['mean_index'] - some_data['mean_index'].mean()) / some_data['mean_index'].std()\n",
        "    series2.index = some_data['date']\n",
        "    if not check_stationarity(series2):\n",
        "        print('ряд не стационарен')\n",
        "        return\n",
        "\n",
        "    time = some_data['date']\n",
        "\n",
        "    test_data = pd.concat([series1, series2], axis=1).iloc[1:]\n",
        "    results = grangercausalitytests(test_data, maxlag=max_lag, verbose=False)\n",
        "\n",
        "    print(f\"Результаты для лагов 1-{max_lag}:\")\n",
        "    for lag in range(1, max_lag+1):\n",
        "        p_value = results[lag][0]['ssr_ftest'][1]\n",
        "        print(f\"Лаг {lag}: p-value = {p_value:.4f}\",\n",
        "              \"*Отвергаем H0*\" if p_value < 0.05 else \"\")\n",
        "\n",
        "\n",
        "\n",
        "\n",
        "\n",
        "    # Визуализация данных для сравнения\n",
        "    plt.figure(figsize=(10, 6))\n",
        "    plt.plot(time, series1, label=\"Series 1\", linestyle='-', color='blue')\n",
        "    plt.plot(time, series2, label=\"Series 2\", linestyle='--', color='red')\n",
        "    plt.title(\"Сравнение двух временных рядов\")\n",
        "    plt.xlabel(\"Время\")\n",
        "    plt.ylabel(\"Значение\")\n",
        "    plt.legend()\n",
        "    plt.show()\n"
      ]
    },
    {
      "cell_type": "code",
      "execution_count": null,
      "id": "5020e504-f430-442c-8922-1d416adb1d5f",
      "metadata": {
        "id": "5020e504-f430-442c-8922-1d416adb1d5f"
      },
      "outputs": [],
      "source": [
        "granger_test(bitcoin_data_new, max_lag=4)"
      ]
    },
    {
      "cell_type": "code",
      "execution_count": null,
      "id": "11d2ca5d-7f8a-4d79-aa2e-e12a3d902cc5",
      "metadata": {
        "id": "11d2ca5d-7f8a-4d79-aa2e-e12a3d902cc5"
      },
      "outputs": [],
      "source": [
        "granger_test(eth_data_new, max_lag=4)"
      ]
    },
    {
      "cell_type": "code",
      "execution_count": null,
      "id": "01d8e2d8-0951-4eaf-9958-92d5def5a1fe",
      "metadata": {
        "id": "01d8e2d8-0951-4eaf-9958-92d5def5a1fe"
      },
      "outputs": [],
      "source": []
    }
  ],
  "metadata": {
    "accelerator": "GPU",
    "colab": {
      "gpuType": "T4",
      "provenance": []
    },
    "kernelspec": {
      "display_name": "Python 3",
      "name": "python3"
    },
    "language_info": {
      "codemirror_mode": {
        "name": "ipython",
        "version": 3
      },
      "file_extension": ".py",
      "mimetype": "text/x-python",
      "name": "python",
      "nbconvert_exporter": "python",
      "pygments_lexer": "ipython3",
      "version": "3.11.7"
    }
  },
  "nbformat": 4,
  "nbformat_minor": 5
}